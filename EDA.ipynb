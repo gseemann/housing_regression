{
 "cells": [
  {
   "cell_type": "markdown",
   "metadata": {},
   "source": [
    "# General EDA"
   ]
  },
  {
   "cell_type": "markdown",
   "metadata": {},
   "source": [
    "## Import libraries"
   ]
  },
  {
   "cell_type": "code",
   "execution_count": 1,
   "metadata": {
    "ExecuteTime": {
     "end_time": "2020-08-17T22:49:11.717792Z",
     "start_time": "2020-08-17T22:49:08.976100Z"
    }
   },
   "outputs": [],
   "source": [
    "import pandas as pd\n",
    "import seaborn as sns\n",
    "import numpy as np\n",
    "import matplotlib.pyplot as plt\n",
    "import statsmodels.api as sm\n",
    "from statsmodels.formula.api import ols\n",
    "\n",
    "# from sklearn.linear_model import LinearRegression"
   ]
  },
  {
   "cell_type": "code",
   "execution_count": 2,
   "metadata": {
    "ExecuteTime": {
     "end_time": "2020-08-17T22:49:13.034428Z",
     "start_time": "2020-08-17T22:49:12.979013Z"
    }
   },
   "outputs": [],
   "source": [
    "df = pd.read_csv('kc_house_data.csv', index_col='id')"
   ]
  },
  {
   "cell_type": "code",
   "execution_count": 3,
   "metadata": {
    "ExecuteTime": {
     "end_time": "2020-08-17T22:49:13.336620Z",
     "start_time": "2020-08-17T22:49:13.332440Z"
    }
   },
   "outputs": [
    {
     "data": {
      "text/plain": [
       "(21613, 20)"
      ]
     },
     "execution_count": 3,
     "metadata": {},
     "output_type": "execute_result"
    }
   ],
   "source": [
    "df.shape"
   ]
  },
  {
   "cell_type": "code",
   "execution_count": 4,
   "metadata": {
    "ExecuteTime": {
     "end_time": "2020-08-17T22:49:14.193597Z",
     "start_time": "2020-08-17T22:49:14.176298Z"
    }
   },
   "outputs": [
    {
     "data": {
      "text/html": [
       "<div>\n",
       "<style scoped>\n",
       "    .dataframe tbody tr th:only-of-type {\n",
       "        vertical-align: middle;\n",
       "    }\n",
       "\n",
       "    .dataframe tbody tr th {\n",
       "        vertical-align: top;\n",
       "    }\n",
       "\n",
       "    .dataframe thead th {\n",
       "        text-align: right;\n",
       "    }\n",
       "</style>\n",
       "<table border=\"1\" class=\"dataframe\">\n",
       "  <thead>\n",
       "    <tr style=\"text-align: right;\">\n",
       "      <th></th>\n",
       "      <th>date</th>\n",
       "      <th>price</th>\n",
       "      <th>bedrooms</th>\n",
       "      <th>bathrooms</th>\n",
       "      <th>sqft_living</th>\n",
       "      <th>sqft_lot</th>\n",
       "      <th>floors</th>\n",
       "      <th>waterfront</th>\n",
       "      <th>view</th>\n",
       "      <th>condition</th>\n",
       "      <th>grade</th>\n",
       "      <th>sqft_above</th>\n",
       "      <th>sqft_basement</th>\n",
       "      <th>yr_built</th>\n",
       "      <th>yr_renovated</th>\n",
       "      <th>zipcode</th>\n",
       "      <th>lat</th>\n",
       "      <th>long</th>\n",
       "      <th>sqft_living15</th>\n",
       "      <th>sqft_lot15</th>\n",
       "    </tr>\n",
       "    <tr>\n",
       "      <th>id</th>\n",
       "      <th></th>\n",
       "      <th></th>\n",
       "      <th></th>\n",
       "      <th></th>\n",
       "      <th></th>\n",
       "      <th></th>\n",
       "      <th></th>\n",
       "      <th></th>\n",
       "      <th></th>\n",
       "      <th></th>\n",
       "      <th></th>\n",
       "      <th></th>\n",
       "      <th></th>\n",
       "      <th></th>\n",
       "      <th></th>\n",
       "      <th></th>\n",
       "      <th></th>\n",
       "      <th></th>\n",
       "      <th></th>\n",
       "      <th></th>\n",
       "    </tr>\n",
       "  </thead>\n",
       "  <tbody>\n",
       "    <tr>\n",
       "      <th>7129300520</th>\n",
       "      <td>20141013T000000</td>\n",
       "      <td>221900.0</td>\n",
       "      <td>3</td>\n",
       "      <td>1.00</td>\n",
       "      <td>1180</td>\n",
       "      <td>5650</td>\n",
       "      <td>1.0</td>\n",
       "      <td>0</td>\n",
       "      <td>0</td>\n",
       "      <td>3</td>\n",
       "      <td>7</td>\n",
       "      <td>1180.0</td>\n",
       "      <td>0</td>\n",
       "      <td>1955</td>\n",
       "      <td>0</td>\n",
       "      <td>98178</td>\n",
       "      <td>47.5112</td>\n",
       "      <td>-122.257</td>\n",
       "      <td>1340</td>\n",
       "      <td>5650</td>\n",
       "    </tr>\n",
       "    <tr>\n",
       "      <th>6414100192</th>\n",
       "      <td>20141209T000000</td>\n",
       "      <td>538000.0</td>\n",
       "      <td>3</td>\n",
       "      <td>2.25</td>\n",
       "      <td>2570</td>\n",
       "      <td>7242</td>\n",
       "      <td>2.0</td>\n",
       "      <td>0</td>\n",
       "      <td>0</td>\n",
       "      <td>3</td>\n",
       "      <td>7</td>\n",
       "      <td>2170.0</td>\n",
       "      <td>400</td>\n",
       "      <td>1951</td>\n",
       "      <td>1991</td>\n",
       "      <td>98125</td>\n",
       "      <td>47.7210</td>\n",
       "      <td>-122.319</td>\n",
       "      <td>1690</td>\n",
       "      <td>7639</td>\n",
       "    </tr>\n",
       "    <tr>\n",
       "      <th>5631500400</th>\n",
       "      <td>20150225T000000</td>\n",
       "      <td>180000.0</td>\n",
       "      <td>2</td>\n",
       "      <td>1.00</td>\n",
       "      <td>770</td>\n",
       "      <td>10000</td>\n",
       "      <td>1.0</td>\n",
       "      <td>0</td>\n",
       "      <td>0</td>\n",
       "      <td>3</td>\n",
       "      <td>6</td>\n",
       "      <td>770.0</td>\n",
       "      <td>0</td>\n",
       "      <td>1933</td>\n",
       "      <td>0</td>\n",
       "      <td>98028</td>\n",
       "      <td>47.7379</td>\n",
       "      <td>-122.233</td>\n",
       "      <td>2720</td>\n",
       "      <td>8062</td>\n",
       "    </tr>\n",
       "    <tr>\n",
       "      <th>2487200875</th>\n",
       "      <td>20141209T000000</td>\n",
       "      <td>604000.0</td>\n",
       "      <td>4</td>\n",
       "      <td>3.00</td>\n",
       "      <td>1960</td>\n",
       "      <td>5000</td>\n",
       "      <td>1.0</td>\n",
       "      <td>0</td>\n",
       "      <td>0</td>\n",
       "      <td>5</td>\n",
       "      <td>7</td>\n",
       "      <td>1050.0</td>\n",
       "      <td>910</td>\n",
       "      <td>1965</td>\n",
       "      <td>0</td>\n",
       "      <td>98136</td>\n",
       "      <td>47.5208</td>\n",
       "      <td>-122.393</td>\n",
       "      <td>1360</td>\n",
       "      <td>5000</td>\n",
       "    </tr>\n",
       "    <tr>\n",
       "      <th>1954400510</th>\n",
       "      <td>20150218T000000</td>\n",
       "      <td>510000.0</td>\n",
       "      <td>3</td>\n",
       "      <td>2.00</td>\n",
       "      <td>1680</td>\n",
       "      <td>8080</td>\n",
       "      <td>1.0</td>\n",
       "      <td>0</td>\n",
       "      <td>0</td>\n",
       "      <td>3</td>\n",
       "      <td>8</td>\n",
       "      <td>1680.0</td>\n",
       "      <td>0</td>\n",
       "      <td>1987</td>\n",
       "      <td>0</td>\n",
       "      <td>98074</td>\n",
       "      <td>47.6168</td>\n",
       "      <td>-122.045</td>\n",
       "      <td>1800</td>\n",
       "      <td>7503</td>\n",
       "    </tr>\n",
       "  </tbody>\n",
       "</table>\n",
       "</div>"
      ],
      "text/plain": [
       "                       date     price  bedrooms  bathrooms  sqft_living  \\\n",
       "id                                                                        \n",
       "7129300520  20141013T000000  221900.0         3       1.00         1180   \n",
       "6414100192  20141209T000000  538000.0         3       2.25         2570   \n",
       "5631500400  20150225T000000  180000.0         2       1.00          770   \n",
       "2487200875  20141209T000000  604000.0         4       3.00         1960   \n",
       "1954400510  20150218T000000  510000.0         3       2.00         1680   \n",
       "\n",
       "            sqft_lot  floors  waterfront  view  condition  grade  sqft_above  \\\n",
       "id                                                                             \n",
       "7129300520      5650     1.0           0     0          3      7      1180.0   \n",
       "6414100192      7242     2.0           0     0          3      7      2170.0   \n",
       "5631500400     10000     1.0           0     0          3      6       770.0   \n",
       "2487200875      5000     1.0           0     0          5      7      1050.0   \n",
       "1954400510      8080     1.0           0     0          3      8      1680.0   \n",
       "\n",
       "            sqft_basement  yr_built  yr_renovated  zipcode      lat     long  \\\n",
       "id                                                                             \n",
       "7129300520              0      1955             0    98178  47.5112 -122.257   \n",
       "6414100192            400      1951          1991    98125  47.7210 -122.319   \n",
       "5631500400              0      1933             0    98028  47.7379 -122.233   \n",
       "2487200875            910      1965             0    98136  47.5208 -122.393   \n",
       "1954400510              0      1987             0    98074  47.6168 -122.045   \n",
       "\n",
       "            sqft_living15  sqft_lot15  \n",
       "id                                     \n",
       "7129300520           1340        5650  \n",
       "6414100192           1690        7639  \n",
       "5631500400           2720        8062  \n",
       "2487200875           1360        5000  \n",
       "1954400510           1800        7503  "
      ]
     },
     "execution_count": 4,
     "metadata": {},
     "output_type": "execute_result"
    }
   ],
   "source": [
    "df.head()"
   ]
  },
  {
   "cell_type": "markdown",
   "metadata": {},
   "source": [
    "## Let's drop redundant columns sqft_living and lot"
   ]
  },
  {
   "cell_type": "code",
   "execution_count": 5,
   "metadata": {
    "ExecuteTime": {
     "end_time": "2020-08-17T22:49:21.278283Z",
     "start_time": "2020-08-17T22:49:21.272858Z"
    }
   },
   "outputs": [],
   "source": [
    "df.drop(columns= ['sqft_living15','sqft_lot15'],inplace=True)"
   ]
  },
  {
   "cell_type": "markdown",
   "metadata": {},
   "source": [
    "### Drop sqft_above\n",
    "as it's highly coorelated with sqft in general"
   ]
  },
  {
   "cell_type": "code",
   "execution_count": 6,
   "metadata": {
    "ExecuteTime": {
     "end_time": "2020-08-17T22:49:28.802277Z",
     "start_time": "2020-08-17T22:49:28.797237Z"
    }
   },
   "outputs": [],
   "source": [
    "#create new binary column for has floors \n",
    "df.drop(columns='sqft_above', inplace=True)"
   ]
  },
  {
   "cell_type": "markdown",
   "metadata": {},
   "source": [
    "### Fix up date"
   ]
  },
  {
   "cell_type": "code",
   "execution_count": 7,
   "metadata": {
    "ExecuteTime": {
     "end_time": "2020-08-17T22:49:46.143113Z",
     "start_time": "2020-08-17T22:49:46.119984Z"
    }
   },
   "outputs": [],
   "source": [
    "df.date =df.date.apply(lambda x: x[:4]+'-'+x[4:6]+'-'+x[6:8])\n",
    "df.date =pd.to_datetime(df.date)"
   ]
  },
  {
   "cell_type": "code",
   "execution_count": 8,
   "metadata": {
    "ExecuteTime": {
     "end_time": "2020-08-17T22:49:47.854370Z",
     "start_time": "2020-08-17T22:49:47.844108Z"
    },
    "scrolled": false
   },
   "outputs": [
    {
     "name": "stdout",
     "output_type": "stream",
     "text": [
      "<class 'pandas.core.frame.DataFrame'>\n",
      "Int64Index: 21613 entries, 7129300520 to 1523300157\n",
      "Data columns (total 17 columns):\n",
      " #   Column         Non-Null Count  Dtype         \n",
      "---  ------         --------------  -----         \n",
      " 0   date           21613 non-null  datetime64[ns]\n",
      " 1   price          21613 non-null  float64       \n",
      " 2   bedrooms       21613 non-null  int64         \n",
      " 3   bathrooms      21613 non-null  float64       \n",
      " 4   sqft_living    21613 non-null  int64         \n",
      " 5   sqft_lot       21613 non-null  int64         \n",
      " 6   floors         21613 non-null  float64       \n",
      " 7   waterfront     21613 non-null  int64         \n",
      " 8   view           21613 non-null  int64         \n",
      " 9   condition      21613 non-null  int64         \n",
      " 10  grade          21613 non-null  int64         \n",
      " 11  sqft_basement  21613 non-null  int64         \n",
      " 12  yr_built       21613 non-null  int64         \n",
      " 13  yr_renovated   21613 non-null  int64         \n",
      " 14  zipcode        21613 non-null  int64         \n",
      " 15  lat            21613 non-null  float64       \n",
      " 16  long           21613 non-null  float64       \n",
      "dtypes: datetime64[ns](1), float64(5), int64(11)\n",
      "memory usage: 3.0 MB\n"
     ]
    }
   ],
   "source": [
    "df.info()"
   ]
  },
  {
   "cell_type": "markdown",
   "metadata": {},
   "source": [
    "### Check for NaN values"
   ]
  },
  {
   "cell_type": "code",
   "execution_count": 9,
   "metadata": {
    "ExecuteTime": {
     "end_time": "2020-08-17T22:49:53.210471Z",
     "start_time": "2020-08-17T22:49:53.204768Z"
    }
   },
   "outputs": [
    {
     "data": {
      "text/plain": [
       "date             0\n",
       "price            0\n",
       "bedrooms         0\n",
       "bathrooms        0\n",
       "sqft_living      0\n",
       "sqft_lot         0\n",
       "floors           0\n",
       "waterfront       0\n",
       "view             0\n",
       "condition        0\n",
       "grade            0\n",
       "sqft_basement    0\n",
       "yr_built         0\n",
       "yr_renovated     0\n",
       "zipcode          0\n",
       "lat              0\n",
       "long             0\n",
       "dtype: int64"
      ]
     },
     "execution_count": 9,
     "metadata": {},
     "output_type": "execute_result"
    }
   ],
   "source": [
    "df.isna().sum()"
   ]
  },
  {
   "cell_type": "code",
   "execution_count": 95,
   "metadata": {
    "ExecuteTime": {
     "end_time": "2020-08-18T20:31:17.692711Z",
     "start_time": "2020-08-18T20:31:09.985702Z"
    },
    "scrolled": false
   },
   "outputs": [
    {
     "data": {
      "text/plain": [
       "array([[<matplotlib.axes._subplots.AxesSubplot object at 0x7f8526d7a910>,\n",
       "        <matplotlib.axes._subplots.AxesSubplot object at 0x7f85237c10d0>,\n",
       "        <matplotlib.axes._subplots.AxesSubplot object at 0x7f85237d1a50>,\n",
       "        <matplotlib.axes._subplots.AxesSubplot object at 0x7f8526f96b50>,\n",
       "        <matplotlib.axes._subplots.AxesSubplot object at 0x7f8527100e50>,\n",
       "        <matplotlib.axes._subplots.AxesSubplot object at 0x7f85259666d0>,\n",
       "        <matplotlib.axes._subplots.AxesSubplot object at 0x7f8526fed9d0>,\n",
       "        <matplotlib.axes._subplots.AxesSubplot object at 0x7f8525783cd0>,\n",
       "        <matplotlib.axes._subplots.AxesSubplot object at 0x7f85257a3790>],\n",
       "       [<matplotlib.axes._subplots.AxesSubplot object at 0x7f852705dbd0>,\n",
       "        <matplotlib.axes._subplots.AxesSubplot object at 0x7f85271ec610>,\n",
       "        <matplotlib.axes._subplots.AxesSubplot object at 0x7f8526d81910>,\n",
       "        <matplotlib.axes._subplots.AxesSubplot object at 0x7f85271a2c10>,\n",
       "        <matplotlib.axes._subplots.AxesSubplot object at 0x7f8526d33f10>,\n",
       "        <matplotlib.axes._subplots.AxesSubplot object at 0x7f852574fcd0>,\n",
       "        <matplotlib.axes._subplots.AxesSubplot object at 0x7f852469afd0>,\n",
       "        <matplotlib.axes._subplots.AxesSubplot object at 0x7f8525121850>,\n",
       "        <matplotlib.axes._subplots.AxesSubplot object at 0x7f85246ecb50>],\n",
       "       [<matplotlib.axes._subplots.AxesSubplot object at 0x7f8524719e50>,\n",
       "        <matplotlib.axes._subplots.AxesSubplot object at 0x7f8522fdec10>,\n",
       "        <matplotlib.axes._subplots.AxesSubplot object at 0x7f85256d6f10>,\n",
       "        <matplotlib.axes._subplots.AxesSubplot object at 0x7f8525679790>,\n",
       "        <matplotlib.axes._subplots.AxesSubplot object at 0x7f8522b34a90>,\n",
       "        <matplotlib.axes._subplots.AxesSubplot object at 0x7f8522ce6d90>,\n",
       "        <matplotlib.axes._subplots.AxesSubplot object at 0x7f8522dd8b50>,\n",
       "        <matplotlib.axes._subplots.AxesSubplot object at 0x7f8522e7fe50>,\n",
       "        <matplotlib.axes._subplots.AxesSubplot object at 0x7f8522f1c6d0>],\n",
       "       [<matplotlib.axes._subplots.AxesSubplot object at 0x7f8522f809d0>,\n",
       "        <matplotlib.axes._subplots.AxesSubplot object at 0x7f8523021cd0>,\n",
       "        <matplotlib.axes._subplots.AxesSubplot object at 0x7f8522d36fd0>,\n",
       "        <matplotlib.axes._subplots.AxesSubplot object at 0x7f8522eadd90>,\n",
       "        <matplotlib.axes._subplots.AxesSubplot object at 0x7f85227c8610>,\n",
       "        <matplotlib.axes._subplots.AxesSubplot object at 0x7f852732d910>,\n",
       "        <matplotlib.axes._subplots.AxesSubplot object at 0x7f85216f4c10>,\n",
       "        <matplotlib.axes._subplots.AxesSubplot object at 0x7f852267af10>,\n",
       "        <matplotlib.axes._subplots.AxesSubplot object at 0x7f85226c1cd0>],\n",
       "       [<matplotlib.axes._subplots.AxesSubplot object at 0x7f85254f7810>,\n",
       "        <matplotlib.axes._subplots.AxesSubplot object at 0x7f8522776f90>,\n",
       "        <matplotlib.axes._subplots.AxesSubplot object at 0x7f85230ea850>,\n",
       "        <matplotlib.axes._subplots.AxesSubplot object at 0x7f852310ebd0>,\n",
       "        <matplotlib.axes._subplots.AxesSubplot object at 0x7f852312c890>,\n",
       "        <matplotlib.axes._subplots.AxesSubplot object at 0x7f8523151c10>,\n",
       "        <matplotlib.axes._subplots.AxesSubplot object at 0x7f85232b28d0>,\n",
       "        <matplotlib.axes._subplots.AxesSubplot object at 0x7f85232d5c50>,\n",
       "        <matplotlib.axes._subplots.AxesSubplot object at 0x7f85232f3910>],\n",
       "       [<matplotlib.axes._subplots.AxesSubplot object at 0x7f852332ac90>,\n",
       "        <matplotlib.axes._subplots.AxesSubplot object at 0x7f8527341950>,\n",
       "        <matplotlib.axes._subplots.AxesSubplot object at 0x7f8527381cd0>,\n",
       "        <matplotlib.axes._subplots.AxesSubplot object at 0x7f85273b9990>,\n",
       "        <matplotlib.axes._subplots.AxesSubplot object at 0x7f85273fbd10>,\n",
       "        <matplotlib.axes._subplots.AxesSubplot object at 0x7f85274309d0>,\n",
       "        <matplotlib.axes._subplots.AxesSubplot object at 0x7f852746fd50>,\n",
       "        <matplotlib.axes._subplots.AxesSubplot object at 0x7f8527525a10>,\n",
       "        <matplotlib.axes._subplots.AxesSubplot object at 0x7f8527563d90>],\n",
       "       [<matplotlib.axes._subplots.AxesSubplot object at 0x7f8527f8da50>,\n",
       "        <matplotlib.axes._subplots.AxesSubplot object at 0x7f8527fcddd0>,\n",
       "        <matplotlib.axes._subplots.AxesSubplot object at 0x7f8528001a90>,\n",
       "        <matplotlib.axes._subplots.AxesSubplot object at 0x7f852870fe10>,\n",
       "        <matplotlib.axes._subplots.AxesSubplot object at 0x7f8528743ad0>,\n",
       "        <matplotlib.axes._subplots.AxesSubplot object at 0x7f8528784e50>,\n",
       "        <matplotlib.axes._subplots.AxesSubplot object at 0x7f85287bab10>,\n",
       "        <matplotlib.axes._subplots.AxesSubplot object at 0x7f85287f9e90>,\n",
       "        <matplotlib.axes._subplots.AxesSubplot object at 0x7f8528830b50>],\n",
       "       [<matplotlib.axes._subplots.AxesSubplot object at 0x7f852886ded0>,\n",
       "        <matplotlib.axes._subplots.AxesSubplot object at 0x7f85288a6b90>,\n",
       "        <matplotlib.axes._subplots.AxesSubplot object at 0x7f85288e4f10>,\n",
       "        <matplotlib.axes._subplots.AxesSubplot object at 0x7f852891bbd0>,\n",
       "        <matplotlib.axes._subplots.AxesSubplot object at 0x7f852895af50>,\n",
       "        <matplotlib.axes._subplots.AxesSubplot object at 0x7f8528991c10>,\n",
       "        <matplotlib.axes._subplots.AxesSubplot object at 0x7f85289d0f90>,\n",
       "        <matplotlib.axes._subplots.AxesSubplot object at 0x7f8528a05c50>,\n",
       "        <matplotlib.axes._subplots.AxesSubplot object at 0x7f8528a44fd0>],\n",
       "       [<matplotlib.axes._subplots.AxesSubplot object at 0x7f8528a7bc90>,\n",
       "        <matplotlib.axes._subplots.AxesSubplot object at 0x7f8528aba4d0>,\n",
       "        <matplotlib.axes._subplots.AxesSubplot object at 0x7f8528af0cd0>,\n",
       "        <matplotlib.axes._subplots.AxesSubplot object at 0x7f8528b30510>,\n",
       "        <matplotlib.axes._subplots.AxesSubplot object at 0x7f8528b65d10>,\n",
       "        <matplotlib.axes._subplots.AxesSubplot object at 0x7f8528ba6550>,\n",
       "        <matplotlib.axes._subplots.AxesSubplot object at 0x7f8528bdad50>,\n",
       "        <matplotlib.axes._subplots.AxesSubplot object at 0x7f8528c1a590>,\n",
       "        <matplotlib.axes._subplots.AxesSubplot object at 0x7f8528c51d90>],\n",
       "       [<matplotlib.axes._subplots.AxesSubplot object at 0x7f8528c905d0>,\n",
       "        <matplotlib.axes._subplots.AxesSubplot object at 0x7f8528cc6dd0>,\n",
       "        <matplotlib.axes._subplots.AxesSubplot object at 0x7f8528d04610>,\n",
       "        <matplotlib.axes._subplots.AxesSubplot object at 0x7f8528d3ae10>,\n",
       "        <matplotlib.axes._subplots.AxesSubplot object at 0x7f8528d7b650>,\n",
       "        <matplotlib.axes._subplots.AxesSubplot object at 0x7f8528dafe50>,\n",
       "        <matplotlib.axes._subplots.AxesSubplot object at 0x7f8528df0690>,\n",
       "        <matplotlib.axes._subplots.AxesSubplot object at 0x7f8528e26e90>,\n",
       "        <matplotlib.axes._subplots.AxesSubplot object at 0x7f8528e676d0>]],\n",
       "      dtype=object)"
      ]
     },
     "execution_count": 95,
     "metadata": {},
     "output_type": "execute_result"
    },
    {
     "data": {
      "image/png": "[encoded data removed]",
      "text/plain": [
       "<Figure size 1440x1080 with 90 Axes>"
      ]
     },
     "metadata": {
      "needs_background": "light"
     },
     "output_type": "display_data"
    }
   ],
   "source": [
    "df.hist(bins=50, figsize=(20,15))"
   ]
  },
  {
   "cell_type": "code",
   "execution_count": 14,
   "metadata": {
    "ExecuteTime": {
     "end_time": "2020-08-17T22:54:08.443752Z",
     "start_time": "2020-08-17T22:54:08.441282Z"
    }
   },
   "outputs": [],
   "source": [
    "from pandas.plotting import scatter_matrix"
   ]
  },
  {
   "cell_type": "code",
   "execution_count": 18,
   "metadata": {
    "ExecuteTime": {
     "end_time": "2020-08-17T23:05:23.468666Z",
     "start_time": "2020-08-17T23:05:23.466202Z"
    }
   },
   "outputs": [],
   "source": [
    "attributes = ['price', 'bedrooms', 'bathrooms', 'sqft_living', 'sqft_lot',\n",
    "       'condition', 'grade']"
   ]
  },
  {
   "cell_type": "code",
   "execution_count": 19,
   "metadata": {
    "ExecuteTime": {
     "end_time": "2020-08-17T23:05:33.266805Z",
     "start_time": "2020-08-17T23:05:24.030590Z"
    },
    "scrolled": false
   },
   "outputs": [
    {
     "data": {
      "text/plain": [
       "array([[<matplotlib.axes._subplots.AxesSubplot object at 0x7f855d2a4550>,\n",
       "        <matplotlib.axes._subplots.AxesSubplot object at 0x7f855d28fe90>,\n",
       "        <matplotlib.axes._subplots.AxesSubplot object at 0x7f854188ac10>,\n",
       "        <matplotlib.axes._subplots.AxesSubplot object at 0x7f854189ef10>,\n",
       "        <matplotlib.axes._subplots.AxesSubplot object at 0x7f8541a8e790>,\n",
       "        <matplotlib.axes._subplots.AxesSubplot object at 0x7f8541aada90>,\n",
       "        <matplotlib.axes._subplots.AxesSubplot object at 0x7f8541ae1f90>],\n",
       "       [<matplotlib.axes._subplots.AxesSubplot object at 0x7f8541b25850>,\n",
       "        <matplotlib.axes._subplots.AxesSubplot object at 0x7f8541b2f3d0>,\n",
       "        <matplotlib.axes._subplots.AxesSubplot object at 0x7f8541b64d50>,\n",
       "        <matplotlib.axes._subplots.AxesSubplot object at 0x7f8541bd8c10>,\n",
       "        <matplotlib.axes._subplots.AxesSubplot object at 0x7f8541c0f8d0>,\n",
       "        <matplotlib.axes._subplots.AxesSubplot object at 0x7f8541c4cc50>,\n",
       "        <matplotlib.axes._subplots.AxesSubplot object at 0x7f8541c83910>],\n",
       "       [<matplotlib.axes._subplots.AxesSubplot object at 0x7f8541cc1c90>,\n",
       "        <matplotlib.axes._subplots.AxesSubplot object at 0x7f8541cf9950>,\n",
       "        <matplotlib.axes._subplots.AxesSubplot object at 0x7f8541d36cd0>,\n",
       "        <matplotlib.axes._subplots.AxesSubplot object at 0x7f8541d6d990>,\n",
       "        <matplotlib.axes._subplots.AxesSubplot object at 0x7f8541dacd10>,\n",
       "        <matplotlib.axes._subplots.AxesSubplot object at 0x7f8541de39d0>,\n",
       "        <matplotlib.axes._subplots.AxesSubplot object at 0x7f8541e22d50>],\n",
       "       [<matplotlib.axes._subplots.AxesSubplot object at 0x7f8541e59a10>,\n",
       "        <matplotlib.axes._subplots.AxesSubplot object at 0x7f8541e99d90>,\n",
       "        <matplotlib.axes._subplots.AxesSubplot object at 0x7f8542101a50>,\n",
       "        <matplotlib.axes._subplots.AxesSubplot object at 0x7f854213fdd0>,\n",
       "        <matplotlib.axes._subplots.AxesSubplot object at 0x7f8542177a90>,\n",
       "        <matplotlib.axes._subplots.AxesSubplot object at 0x7f85421b5e10>,\n",
       "        <matplotlib.axes._subplots.AxesSubplot object at 0x7f85421ebad0>],\n",
       "       [<matplotlib.axes._subplots.AxesSubplot object at 0x7f854232ae50>,\n",
       "        <matplotlib.axes._subplots.AxesSubplot object at 0x7f8542361b10>,\n",
       "        <matplotlib.axes._subplots.AxesSubplot object at 0x7f85423a1e90>,\n",
       "        <matplotlib.axes._subplots.AxesSubplot object at 0x7f85423d6b50>,\n",
       "        <matplotlib.axes._subplots.AxesSubplot object at 0x7f8542417ed0>,\n",
       "        <matplotlib.axes._subplots.AxesSubplot object at 0x7f854244cb90>,\n",
       "        <matplotlib.axes._subplots.AxesSubplot object at 0x7f854248bf10>],\n",
       "       [<matplotlib.axes._subplots.AxesSubplot object at 0x7f85424c0bd0>,\n",
       "        <matplotlib.axes._subplots.AxesSubplot object at 0x7f8542500f50>,\n",
       "        <matplotlib.axes._subplots.AxesSubplot object at 0x7f8542535c10>,\n",
       "        <matplotlib.axes._subplots.AxesSubplot object at 0x7f8542574f90>,\n",
       "        <matplotlib.axes._subplots.AxesSubplot object at 0x7f85425acc50>,\n",
       "        <matplotlib.axes._subplots.AxesSubplot object at 0x7f85425ebfd0>,\n",
       "        <matplotlib.axes._subplots.AxesSubplot object at 0x7f8542620c90>],\n",
       "       [<matplotlib.axes._subplots.AxesSubplot object at 0x7f85426614d0>,\n",
       "        <matplotlib.axes._subplots.AxesSubplot object at 0x7f8542697cd0>,\n",
       "        <matplotlib.axes._subplots.AxesSubplot object at 0x7f85426d6510>,\n",
       "        <matplotlib.axes._subplots.AxesSubplot object at 0x7f854270cd10>,\n",
       "        <matplotlib.axes._subplots.AxesSubplot object at 0x7f854274c550>,\n",
       "        <matplotlib.axes._subplots.AxesSubplot object at 0x7f8542781d50>,\n",
       "        <matplotlib.axes._subplots.AxesSubplot object at 0x7f85427c2590>]],\n",
       "      dtype=object)"
      ]
     },
     "execution_count": 19,
     "metadata": {},
     "output_type": "execute_result"
    },
    {
     "data": {
      "image/png": "[encoded data removed]",
      "text/plain": [
       "<Figure size 864x576 with 49 Axes>"
      ]
     },
     "metadata": {
      "needs_background": "light"
     },
     "output_type": "display_data"
    }
   ],
   "source": [
    "scatter_matrix(df[attributes], figsize=(12, 8))"
   ]
  },
  {
   "cell_type": "markdown",
   "metadata": {},
   "source": [
    "#### Things to note\n",
    "Odd that more bedrooms doesn't seem to scale much with price\n"
   ]
  },
  {
   "cell_type": "code",
   "execution_count": 15,
   "metadata": {
    "ExecuteTime": {
     "end_time": "2020-08-17T22:54:53.822994Z",
     "start_time": "2020-08-17T22:54:53.819021Z"
    }
   },
   "outputs": [
    {
     "data": {
      "text/plain": [
       "Index(['date', 'price', 'bedrooms', 'bathrooms', 'sqft_living', 'sqft_lot',\n",
       "       'floors', 'waterfront', 'view', 'condition', 'grade', 'sqft_basement',\n",
       "       'yr_built', 'yr_renovated', 'zipcode', 'lat', 'long'],\n",
       "      dtype='object')"
      ]
     },
     "execution_count": 15,
     "metadata": {},
     "output_type": "execute_result"
    }
   ],
   "source": [
    "df.columns"
   ]
  },
  {
   "cell_type": "markdown",
   "metadata": {},
   "source": [
    "## Get dummies for catagorical data"
   ]
  },
  {
   "cell_type": "markdown",
   "metadata": {},
   "source": [
    "### Make catagorical var for has_basement"
   ]
  },
  {
   "cell_type": "code",
   "execution_count": 20,
   "metadata": {
    "ExecuteTime": {
     "end_time": "2020-08-17T23:28:30.995742Z",
     "start_time": "2020-08-17T23:28:30.984764Z"
    }
   },
   "outputs": [],
   "source": [
    "#create new binary column for has basement \n",
    "df.has_base = 0\n",
    "# if the sqft_basement>0 case has_base to 1\n",
    "df.has_base = df.sqft_basement.apply(lambda x: 1 if x>0 else 0)"
   ]
  },
  {
   "cell_type": "code",
   "execution_count": 21,
   "metadata": {
    "ExecuteTime": {
     "end_time": "2020-08-17T23:28:33.311362Z",
     "start_time": "2020-08-17T23:28:33.306143Z"
    }
   },
   "outputs": [
    {
     "data": {
      "text/plain": [
       "0    13126\n",
       "1     8487\n",
       "Name: sqft_basement, dtype: int64"
      ]
     },
     "execution_count": 21,
     "metadata": {},
     "output_type": "execute_result"
    }
   ],
   "source": [
    "df.has_base.value_counts()"
   ]
  },
  {
   "cell_type": "markdown",
   "metadata": {},
   "source": [
    "### Turn Zipcode into Catagorical"
   ]
  },
  {
   "cell_type": "code",
   "execution_count": 22,
   "metadata": {
    "ExecuteTime": {
     "end_time": "2020-08-17T23:28:55.179716Z",
     "start_time": "2020-08-17T23:28:55.146237Z"
    }
   },
   "outputs": [],
   "source": [
    "df = df.join(pd.get_dummies(df.zipcode, prefix='catagorical'))\n",
    "df.drop(columns='zipcode',inplace=True)"
   ]
  },
  {
   "cell_type": "code",
   "execution_count": 23,
   "metadata": {
    "ExecuteTime": {
     "end_time": "2020-08-17T23:28:56.982055Z",
     "start_time": "2020-08-17T23:28:56.961639Z"
    }
   },
   "outputs": [
    {
     "data": {
      "text/html": [
       "<div>\n",
       "<style scoped>\n",
       "    .dataframe tbody tr th:only-of-type {\n",
       "        vertical-align: middle;\n",
       "    }\n",
       "\n",
       "    .dataframe tbody tr th {\n",
       "        vertical-align: top;\n",
       "    }\n",
       "\n",
       "    .dataframe thead th {\n",
       "        text-align: right;\n",
       "    }\n",
       "</style>\n",
       "<table border=\"1\" class=\"dataframe\">\n",
       "  <thead>\n",
       "    <tr style=\"text-align: right;\">\n",
       "      <th></th>\n",
       "      <th>date</th>\n",
       "      <th>price</th>\n",
       "      <th>bedrooms</th>\n",
       "      <th>bathrooms</th>\n",
       "      <th>sqft_living</th>\n",
       "      <th>sqft_lot</th>\n",
       "      <th>floors</th>\n",
       "      <th>waterfront</th>\n",
       "      <th>view</th>\n",
       "      <th>condition</th>\n",
       "      <th>...</th>\n",
       "      <th>catagorical_98146</th>\n",
       "      <th>catagorical_98148</th>\n",
       "      <th>catagorical_98155</th>\n",
       "      <th>catagorical_98166</th>\n",
       "      <th>catagorical_98168</th>\n",
       "      <th>catagorical_98177</th>\n",
       "      <th>catagorical_98178</th>\n",
       "      <th>catagorical_98188</th>\n",
       "      <th>catagorical_98198</th>\n",
       "      <th>catagorical_98199</th>\n",
       "    </tr>\n",
       "    <tr>\n",
       "      <th>id</th>\n",
       "      <th></th>\n",
       "      <th></th>\n",
       "      <th></th>\n",
       "      <th></th>\n",
       "      <th></th>\n",
       "      <th></th>\n",
       "      <th></th>\n",
       "      <th></th>\n",
       "      <th></th>\n",
       "      <th></th>\n",
       "      <th></th>\n",
       "      <th></th>\n",
       "      <th></th>\n",
       "      <th></th>\n",
       "      <th></th>\n",
       "      <th></th>\n",
       "      <th></th>\n",
       "      <th></th>\n",
       "      <th></th>\n",
       "      <th></th>\n",
       "      <th></th>\n",
       "    </tr>\n",
       "  </thead>\n",
       "  <tbody>\n",
       "    <tr>\n",
       "      <th>1000102</th>\n",
       "      <td>2014-09-16</td>\n",
       "      <td>280000.0</td>\n",
       "      <td>6</td>\n",
       "      <td>3.00</td>\n",
       "      <td>2400</td>\n",
       "      <td>9373</td>\n",
       "      <td>2.0</td>\n",
       "      <td>0</td>\n",
       "      <td>0</td>\n",
       "      <td>3</td>\n",
       "      <td>...</td>\n",
       "      <td>0</td>\n",
       "      <td>0</td>\n",
       "      <td>0</td>\n",
       "      <td>0</td>\n",
       "      <td>0</td>\n",
       "      <td>0</td>\n",
       "      <td>0</td>\n",
       "      <td>0</td>\n",
       "      <td>0</td>\n",
       "      <td>0</td>\n",
       "    </tr>\n",
       "    <tr>\n",
       "      <th>1000102</th>\n",
       "      <td>2014-09-16</td>\n",
       "      <td>280000.0</td>\n",
       "      <td>6</td>\n",
       "      <td>3.00</td>\n",
       "      <td>2400</td>\n",
       "      <td>9373</td>\n",
       "      <td>2.0</td>\n",
       "      <td>0</td>\n",
       "      <td>0</td>\n",
       "      <td>3</td>\n",
       "      <td>...</td>\n",
       "      <td>0</td>\n",
       "      <td>0</td>\n",
       "      <td>0</td>\n",
       "      <td>0</td>\n",
       "      <td>0</td>\n",
       "      <td>0</td>\n",
       "      <td>0</td>\n",
       "      <td>0</td>\n",
       "      <td>0</td>\n",
       "      <td>0</td>\n",
       "    </tr>\n",
       "    <tr>\n",
       "      <th>1000102</th>\n",
       "      <td>2015-04-22</td>\n",
       "      <td>300000.0</td>\n",
       "      <td>6</td>\n",
       "      <td>3.00</td>\n",
       "      <td>2400</td>\n",
       "      <td>9373</td>\n",
       "      <td>2.0</td>\n",
       "      <td>0</td>\n",
       "      <td>0</td>\n",
       "      <td>3</td>\n",
       "      <td>...</td>\n",
       "      <td>0</td>\n",
       "      <td>0</td>\n",
       "      <td>0</td>\n",
       "      <td>0</td>\n",
       "      <td>0</td>\n",
       "      <td>0</td>\n",
       "      <td>0</td>\n",
       "      <td>0</td>\n",
       "      <td>0</td>\n",
       "      <td>0</td>\n",
       "    </tr>\n",
       "    <tr>\n",
       "      <th>1000102</th>\n",
       "      <td>2015-04-22</td>\n",
       "      <td>300000.0</td>\n",
       "      <td>6</td>\n",
       "      <td>3.00</td>\n",
       "      <td>2400</td>\n",
       "      <td>9373</td>\n",
       "      <td>2.0</td>\n",
       "      <td>0</td>\n",
       "      <td>0</td>\n",
       "      <td>3</td>\n",
       "      <td>...</td>\n",
       "      <td>0</td>\n",
       "      <td>0</td>\n",
       "      <td>0</td>\n",
       "      <td>0</td>\n",
       "      <td>0</td>\n",
       "      <td>0</td>\n",
       "      <td>0</td>\n",
       "      <td>0</td>\n",
       "      <td>0</td>\n",
       "      <td>0</td>\n",
       "    </tr>\n",
       "    <tr>\n",
       "      <th>1200019</th>\n",
       "      <td>2014-05-08</td>\n",
       "      <td>647500.0</td>\n",
       "      <td>4</td>\n",
       "      <td>1.75</td>\n",
       "      <td>2060</td>\n",
       "      <td>26036</td>\n",
       "      <td>1.0</td>\n",
       "      <td>0</td>\n",
       "      <td>0</td>\n",
       "      <td>4</td>\n",
       "      <td>...</td>\n",
       "      <td>0</td>\n",
       "      <td>0</td>\n",
       "      <td>0</td>\n",
       "      <td>1</td>\n",
       "      <td>0</td>\n",
       "      <td>0</td>\n",
       "      <td>0</td>\n",
       "      <td>0</td>\n",
       "      <td>0</td>\n",
       "      <td>0</td>\n",
       "    </tr>\n",
       "  </tbody>\n",
       "</table>\n",
       "<p>5 rows × 86 columns</p>\n",
       "</div>"
      ],
      "text/plain": [
       "              date     price  bedrooms  bathrooms  sqft_living  sqft_lot  \\\n",
       "id                                                                         \n",
       "1000102 2014-09-16  280000.0         6       3.00         2400      9373   \n",
       "1000102 2014-09-16  280000.0         6       3.00         2400      9373   \n",
       "1000102 2015-04-22  300000.0         6       3.00         2400      9373   \n",
       "1000102 2015-04-22  300000.0         6       3.00         2400      9373   \n",
       "1200019 2014-05-08  647500.0         4       1.75         2060     26036   \n",
       "\n",
       "         floors  waterfront  view  condition  ...  catagorical_98146  \\\n",
       "id                                            ...                      \n",
       "1000102     2.0           0     0          3  ...                  0   \n",
       "1000102     2.0           0     0          3  ...                  0   \n",
       "1000102     2.0           0     0          3  ...                  0   \n",
       "1000102     2.0           0     0          3  ...                  0   \n",
       "1200019     1.0           0     0          4  ...                  0   \n",
       "\n",
       "         catagorical_98148  catagorical_98155  catagorical_98166  \\\n",
       "id                                                                 \n",
       "1000102                  0                  0                  0   \n",
       "1000102                  0                  0                  0   \n",
       "1000102                  0                  0                  0   \n",
       "1000102                  0                  0                  0   \n",
       "1200019                  0                  0                  1   \n",
       "\n",
       "         catagorical_98168  catagorical_98177  catagorical_98178  \\\n",
       "id                                                                 \n",
       "1000102                  0                  0                  0   \n",
       "1000102                  0                  0                  0   \n",
       "1000102                  0                  0                  0   \n",
       "1000102                  0                  0                  0   \n",
       "1200019                  0                  0                  0   \n",
       "\n",
       "         catagorical_98188  catagorical_98198  catagorical_98199  \n",
       "id                                                                \n",
       "1000102                  0                  0                  0  \n",
       "1000102                  0                  0                  0  \n",
       "1000102                  0                  0                  0  \n",
       "1000102                  0                  0                  0  \n",
       "1200019                  0                  0                  0  \n",
       "\n",
       "[5 rows x 86 columns]"
      ]
     },
     "execution_count": 23,
     "metadata": {},
     "output_type": "execute_result"
    }
   ],
   "source": [
    "df.head()"
   ]
  },
  {
   "cell_type": "code",
   "execution_count": null,
   "metadata": {},
   "outputs": [],
   "source": []
  },
  {
   "cell_type": "code",
   "execution_count": null,
   "metadata": {},
   "outputs": [],
   "source": []
  },
  {
   "cell_type": "markdown",
   "metadata": {},
   "source": [
    "### Let's use yr_renovated and update the 'yr_built' to the last renovation\n",
    "This may give us a better sense of the style of the house in regards to age"
   ]
  },
  {
   "cell_type": "code",
   "execution_count": 18,
   "metadata": {
    "ExecuteTime": {
     "end_time": "2020-04-02T21:00:16.766135Z",
     "start_time": "2020-04-02T21:00:16.764276Z"
    }
   },
   "outputs": [],
   "source": [
    "# df.yr_renovated.value_counts().index\n",
    "# plt.figure(figsize=(20,20))\n",
    "# sns.barplot(x=df.yr_renovated.value_counts().index, y=df.yr_renovated.value_counts().values)"
   ]
  },
  {
   "cell_type": "code",
   "execution_count": 19,
   "metadata": {
    "ExecuteTime": {
     "end_time": "2020-04-02T21:00:16.849988Z",
     "start_time": "2020-04-02T21:00:16.847651Z"
    }
   },
   "outputs": [],
   "source": [
    "# df.yr_built.value_counts()"
   ]
  },
  {
   "cell_type": "code",
   "execution_count": 20,
   "metadata": {
    "ExecuteTime": {
     "end_time": "2020-04-02T21:00:16.933353Z",
     "start_time": "2020-04-02T21:00:16.931054Z"
    }
   },
   "outputs": [],
   "source": [
    "# plt.figure(figsize=(20,20))\n",
    "# plt.xticks(rotation='vertical')\n",
    "# sns.barplot(x=df.yr_built.value_counts().index, y=df.yr_built.value_counts().values)"
   ]
  },
  {
   "cell_type": "code",
   "execution_count": 24,
   "metadata": {
    "ExecuteTime": {
     "end_time": "2020-08-17T23:29:23.254370Z",
     "start_time": "2020-08-17T23:29:23.251726Z"
    },
    "code_folding": []
   },
   "outputs": [],
   "source": [
    "def reno_yr(reno, built):\n",
    "    if reno:\n",
    "        return reno\n",
    "    return built"
   ]
  },
  {
   "cell_type": "code",
   "execution_count": 25,
   "metadata": {
    "ExecuteTime": {
     "end_time": "2020-08-17T23:29:38.261210Z",
     "start_time": "2020-08-17T23:29:37.602681Z"
    },
    "code_folding": []
   },
   "outputs": [],
   "source": [
    "#update year built to the last renovation (if there was one)\n",
    "df.yr_built = df.apply(lambda x: reno_yr(x.yr_renovated, x.yr_built), axis=1)\n"
   ]
  },
  {
   "cell_type": "code",
   "execution_count": 26,
   "metadata": {
    "ExecuteTime": {
     "end_time": "2020-08-17T23:29:41.931481Z",
     "start_time": "2020-08-17T23:29:41.925768Z"
    }
   },
   "outputs": [
    {
     "data": {
      "text/plain": [
       "2014    650\n",
       "2005    485\n",
       "2006    478\n",
       "2004    467\n",
       "2003    457\n",
       "       ... \n",
       "1901     28\n",
       "1933     25\n",
       "1902     25\n",
       "1935     19\n",
       "1934     14\n",
       "Name: yr_built, Length: 116, dtype: int64"
      ]
     },
     "execution_count": 26,
     "metadata": {},
     "output_type": "execute_result"
    }
   ],
   "source": [
    "df.yr_built.value_counts()"
   ]
  },
  {
   "cell_type": "code",
   "execution_count": 24,
   "metadata": {
    "ExecuteTime": {
     "end_time": "2020-04-02T21:00:18.010363Z",
     "start_time": "2020-04-02T21:00:18.008473Z"
    }
   },
   "outputs": [],
   "source": [
    "# plt.figure(figsize=(20,20))\n",
    "# plt.xticks(rotation='vertical')\n",
    "# sns.barplot(x=df.yr_built.value_counts().index, y=df.yr_built.value_counts().values)"
   ]
  },
  {
   "cell_type": "markdown",
   "metadata": {},
   "source": [
    "#### Now lets drop yr_renovated "
   ]
  },
  {
   "cell_type": "code",
   "execution_count": 27,
   "metadata": {
    "ExecuteTime": {
     "end_time": "2020-08-17T23:29:49.582098Z",
     "start_time": "2020-08-17T23:29:49.575441Z"
    }
   },
   "outputs": [],
   "source": [
    "df.drop(columns='yr_renovated', inplace=True)"
   ]
  },
  {
   "cell_type": "markdown",
   "metadata": {},
   "source": [
    "## Look at Distributions"
   ]
  },
  {
   "cell_type": "code",
   "execution_count": 28,
   "metadata": {
    "ExecuteTime": {
     "end_time": "2020-08-17T23:29:53.498777Z",
     "start_time": "2020-08-17T23:29:53.494886Z"
    }
   },
   "outputs": [],
   "source": [
    "price_predictors = df.iloc[:,2:13]"
   ]
  },
  {
   "cell_type": "code",
   "execution_count": 29,
   "metadata": {
    "ExecuteTime": {
     "end_time": "2020-08-17T23:29:56.280131Z",
     "start_time": "2020-08-17T23:29:56.276400Z"
    },
    "scrolled": true
   },
   "outputs": [
    {
     "data": {
      "text/plain": [
       "Index(['bedrooms', 'bathrooms', 'sqft_living', 'sqft_lot', 'floors',\n",
       "       'waterfront', 'view', 'condition', 'grade', 'sqft_basement',\n",
       "       'yr_built'],\n",
       "      dtype='object')"
      ]
     },
     "execution_count": 29,
     "metadata": {},
     "output_type": "execute_result"
    }
   ],
   "source": [
    "price_predictors.columns"
   ]
  },
  {
   "cell_type": "code",
   "execution_count": 190,
   "metadata": {
    "ExecuteTime": {
     "end_time": "2020-08-19T20:49:57.658612Z",
     "start_time": "2020-08-19T20:49:55.977193Z"
    },
    "scrolled": false
   },
   "outputs": [
    {
     "data": {
      "image/png": "[encoded data removed]",
      "text/plain": [
       "<Figure size 1440x2160 with 12 Axes>"
      ]
     },
     "metadata": {
      "needs_background": "light"
     },
     "output_type": "display_data"
    }
   ],
   "source": [
    "fig, axes = plt.subplots(nrows=3, ncols=4, figsize=(20,30))\n",
    "# fig.suptitle('Graphs of Feature Distributions')\n",
    "# n =1 #used for iteration below, DONT NEED IF USING np.ravel\n",
    "\n",
    "# for row in range(3):\n",
    "#     for col in range(4):\n",
    "# to avoid row col nonsense  use below\n",
    "list_of_subplots = np.ravel(axes)\n",
    "\n",
    "for index,col in enumerate(price_predictors.columns):\n",
    "# ax = axes[row][col]\n",
    "# y = [n*xi for xi in x]\n",
    "    list_of_subplots[index].hist(price_predictors[col])\n",
    "    list_of_subplots[index].set_title('{}'.format(col))\n",
    "fig.savefig('figures/dist_of_features')    #saves fig in current folder"
   ]
  },
  {
   "cell_type": "markdown",
   "metadata": {},
   "source": [
    "## Look at correlation"
   ]
  },
  {
   "cell_type": "code",
   "execution_count": 31,
   "metadata": {
    "ExecuteTime": {
     "end_time": "2020-08-17T23:31:17.059686Z",
     "start_time": "2020-08-17T23:31:17.049419Z"
    }
   },
   "outputs": [],
   "source": [
    "price_predictors = df.iloc[:,2:13]\n",
    "corr = price_predictors.corr()"
   ]
  },
  {
   "cell_type": "markdown",
   "metadata": {},
   "source": [
    "### Function to color corr dataframe"
   ]
  },
  {
   "cell_type": "code",
   "execution_count": 37,
   "metadata": {
    "ExecuteTime": {
     "end_time": "2020-08-17T23:33:15.472536Z",
     "start_time": "2020-08-17T23:33:15.468978Z"
    }
   },
   "outputs": [],
   "source": [
    "# color green if above .7 coor and red if above -.7 corr\n",
    "def color(val):\n",
    "    if abs(val)>+.7:\n",
    "        color = 'green'\n",
    "        return 'color: %s' % color\n",
    "    elif val<-0.7:\n",
    "        color ='red'\n",
    "        return 'color: %s' % color \n",
    "    else:\n",
    "        color ='black'\n",
    "        return 'color: %s' % color"
   ]
  },
  {
   "cell_type": "code",
   "execution_count": 38,
   "metadata": {
    "ExecuteTime": {
     "end_time": "2020-08-17T23:33:16.248615Z",
     "start_time": "2020-08-17T23:33:16.242731Z"
    }
   },
   "outputs": [
    {
     "data": {
      "text/plain": [
       "2.50    5430\n",
       "1.00    3968\n",
       "1.75    3104\n",
       "2.25    2079\n",
       "2.00    1964\n",
       "1.50    1478\n",
       "2.75    1191\n",
       "3.00     765\n",
       "3.50     735\n",
       "3.25     595\n",
       "3.75     155\n",
       "4.00     140\n",
       "4.50     102\n",
       "4.25      79\n",
       "0.75      74\n",
       "4.75      23\n",
       "5.00      21\n",
       "5.25      13\n",
       "0.00      10\n",
       "5.50      10\n",
       "1.25       9\n",
       "6.00       6\n",
       "5.75       4\n",
       "0.50       4\n",
       "6.25       2\n",
       "6.75       2\n",
       "6.50       2\n",
       "8.00       2\n",
       "7.50       1\n",
       "7.75       1\n",
       "Name: bathrooms, dtype: int64"
      ]
     },
     "execution_count": 38,
     "metadata": {},
     "output_type": "execute_result"
    }
   ],
   "source": [
    "price_predictors.bathrooms.value_counts()"
   ]
  },
  {
   "cell_type": "code",
   "execution_count": 39,
   "metadata": {
    "ExecuteTime": {
     "end_time": "2020-08-17T23:33:16.755012Z",
     "start_time": "2020-08-17T23:33:16.708060Z"
    },
    "scrolled": true
   },
   "outputs": [
    {
     "data": {
      "text/html": [
       "<style  type=\"text/css\" >\n",
       "    #T_06ad6104_e0e2_11ea_90e0_acde48001122row0_col0 {\n",
       "            color:  green;\n",
       "        }    #T_06ad6104_e0e2_11ea_90e0_acde48001122row0_col1 {\n",
       "            color:  black;\n",
       "        }    #T_06ad6104_e0e2_11ea_90e0_acde48001122row0_col2 {\n",
       "            color:  black;\n",
       "        }    #T_06ad6104_e0e2_11ea_90e0_acde48001122row0_col3 {\n",
       "            color:  black;\n",
       "        }    #T_06ad6104_e0e2_11ea_90e0_acde48001122row0_col4 {\n",
       "            color:  black;\n",
       "        }    #T_06ad6104_e0e2_11ea_90e0_acde48001122row0_col5 {\n",
       "            color:  black;\n",
       "        }    #T_06ad6104_e0e2_11ea_90e0_acde48001122row0_col6 {\n",
       "            color:  black;\n",
       "        }    #T_06ad6104_e0e2_11ea_90e0_acde48001122row0_col7 {\n",
       "            color:  black;\n",
       "        }    #T_06ad6104_e0e2_11ea_90e0_acde48001122row0_col8 {\n",
       "            color:  black;\n",
       "        }    #T_06ad6104_e0e2_11ea_90e0_acde48001122row0_col9 {\n",
       "            color:  black;\n",
       "        }    #T_06ad6104_e0e2_11ea_90e0_acde48001122row0_col10 {\n",
       "            color:  black;\n",
       "        }    #T_06ad6104_e0e2_11ea_90e0_acde48001122row1_col0 {\n",
       "            color:  black;\n",
       "        }    #T_06ad6104_e0e2_11ea_90e0_acde48001122row1_col1 {\n",
       "            color:  green;\n",
       "        }    #T_06ad6104_e0e2_11ea_90e0_acde48001122row1_col2 {\n",
       "            color:  green;\n",
       "        }    #T_06ad6104_e0e2_11ea_90e0_acde48001122row1_col3 {\n",
       "            color:  black;\n",
       "        }    #T_06ad6104_e0e2_11ea_90e0_acde48001122row1_col4 {\n",
       "            color:  black;\n",
       "        }    #T_06ad6104_e0e2_11ea_90e0_acde48001122row1_col5 {\n",
       "            color:  black;\n",
       "        }    #T_06ad6104_e0e2_11ea_90e0_acde48001122row1_col6 {\n",
       "            color:  black;\n",
       "        }    #T_06ad6104_e0e2_11ea_90e0_acde48001122row1_col7 {\n",
       "            color:  black;\n",
       "        }    #T_06ad6104_e0e2_11ea_90e0_acde48001122row1_col8 {\n",
       "            color:  black;\n",
       "        }    #T_06ad6104_e0e2_11ea_90e0_acde48001122row1_col9 {\n",
       "            color:  black;\n",
       "        }    #T_06ad6104_e0e2_11ea_90e0_acde48001122row1_col10 {\n",
       "            color:  black;\n",
       "        }    #T_06ad6104_e0e2_11ea_90e0_acde48001122row2_col0 {\n",
       "            color:  black;\n",
       "        }    #T_06ad6104_e0e2_11ea_90e0_acde48001122row2_col1 {\n",
       "            color:  green;\n",
       "        }    #T_06ad6104_e0e2_11ea_90e0_acde48001122row2_col2 {\n",
       "            color:  green;\n",
       "        }    #T_06ad6104_e0e2_11ea_90e0_acde48001122row2_col3 {\n",
       "            color:  black;\n",
       "        }    #T_06ad6104_e0e2_11ea_90e0_acde48001122row2_col4 {\n",
       "            color:  black;\n",
       "        }    #T_06ad6104_e0e2_11ea_90e0_acde48001122row2_col5 {\n",
       "            color:  black;\n",
       "        }    #T_06ad6104_e0e2_11ea_90e0_acde48001122row2_col6 {\n",
       "            color:  black;\n",
       "        }    #T_06ad6104_e0e2_11ea_90e0_acde48001122row2_col7 {\n",
       "            color:  black;\n",
       "        }    #T_06ad6104_e0e2_11ea_90e0_acde48001122row2_col8 {\n",
       "            color:  green;\n",
       "        }    #T_06ad6104_e0e2_11ea_90e0_acde48001122row2_col9 {\n",
       "            color:  black;\n",
       "        }    #T_06ad6104_e0e2_11ea_90e0_acde48001122row2_col10 {\n",
       "            color:  black;\n",
       "        }    #T_06ad6104_e0e2_11ea_90e0_acde48001122row3_col0 {\n",
       "            color:  black;\n",
       "        }    #T_06ad6104_e0e2_11ea_90e0_acde48001122row3_col1 {\n",
       "            color:  black;\n",
       "        }    #T_06ad6104_e0e2_11ea_90e0_acde48001122row3_col2 {\n",
       "            color:  black;\n",
       "        }    #T_06ad6104_e0e2_11ea_90e0_acde48001122row3_col3 {\n",
       "            color:  green;\n",
       "        }    #T_06ad6104_e0e2_11ea_90e0_acde48001122row3_col4 {\n",
       "            color:  black;\n",
       "        }    #T_06ad6104_e0e2_11ea_90e0_acde48001122row3_col5 {\n",
       "            color:  black;\n",
       "        }    #T_06ad6104_e0e2_11ea_90e0_acde48001122row3_col6 {\n",
       "            color:  black;\n",
       "        }    #T_06ad6104_e0e2_11ea_90e0_acde48001122row3_col7 {\n",
       "            color:  black;\n",
       "        }    #T_06ad6104_e0e2_11ea_90e0_acde48001122row3_col8 {\n",
       "            color:  black;\n",
       "        }    #T_06ad6104_e0e2_11ea_90e0_acde48001122row3_col9 {\n",
       "            color:  black;\n",
       "        }    #T_06ad6104_e0e2_11ea_90e0_acde48001122row3_col10 {\n",
       "            color:  black;\n",
       "        }    #T_06ad6104_e0e2_11ea_90e0_acde48001122row4_col0 {\n",
       "            color:  black;\n",
       "        }    #T_06ad6104_e0e2_11ea_90e0_acde48001122row4_col1 {\n",
       "            color:  black;\n",
       "        }    #T_06ad6104_e0e2_11ea_90e0_acde48001122row4_col2 {\n",
       "            color:  black;\n",
       "        }    #T_06ad6104_e0e2_11ea_90e0_acde48001122row4_col3 {\n",
       "            color:  black;\n",
       "        }    #T_06ad6104_e0e2_11ea_90e0_acde48001122row4_col4 {\n",
       "            color:  green;\n",
       "        }    #T_06ad6104_e0e2_11ea_90e0_acde48001122row4_col5 {\n",
       "            color:  black;\n",
       "        }    #T_06ad6104_e0e2_11ea_90e0_acde48001122row4_col6 {\n",
       "            color:  black;\n",
       "        }    #T_06ad6104_e0e2_11ea_90e0_acde48001122row4_col7 {\n",
       "            color:  black;\n",
       "        }    #T_06ad6104_e0e2_11ea_90e0_acde48001122row4_col8 {\n",
       "            color:  black;\n",
       "        }    #T_06ad6104_e0e2_11ea_90e0_acde48001122row4_col9 {\n",
       "            color:  black;\n",
       "        }    #T_06ad6104_e0e2_11ea_90e0_acde48001122row4_col10 {\n",
       "            color:  black;\n",
       "        }    #T_06ad6104_e0e2_11ea_90e0_acde48001122row5_col0 {\n",
       "            color:  black;\n",
       "        }    #T_06ad6104_e0e2_11ea_90e0_acde48001122row5_col1 {\n",
       "            color:  black;\n",
       "        }    #T_06ad6104_e0e2_11ea_90e0_acde48001122row5_col2 {\n",
       "            color:  black;\n",
       "        }    #T_06ad6104_e0e2_11ea_90e0_acde48001122row5_col3 {\n",
       "            color:  black;\n",
       "        }    #T_06ad6104_e0e2_11ea_90e0_acde48001122row5_col4 {\n",
       "            color:  black;\n",
       "        }    #T_06ad6104_e0e2_11ea_90e0_acde48001122row5_col5 {\n",
       "            color:  green;\n",
       "        }    #T_06ad6104_e0e2_11ea_90e0_acde48001122row5_col6 {\n",
       "            color:  black;\n",
       "        }    #T_06ad6104_e0e2_11ea_90e0_acde48001122row5_col7 {\n",
       "            color:  black;\n",
       "        }    #T_06ad6104_e0e2_11ea_90e0_acde48001122row5_col8 {\n",
       "            color:  black;\n",
       "        }    #T_06ad6104_e0e2_11ea_90e0_acde48001122row5_col9 {\n",
       "            color:  black;\n",
       "        }    #T_06ad6104_e0e2_11ea_90e0_acde48001122row5_col10 {\n",
       "            color:  black;\n",
       "        }    #T_06ad6104_e0e2_11ea_90e0_acde48001122row6_col0 {\n",
       "            color:  black;\n",
       "        }    #T_06ad6104_e0e2_11ea_90e0_acde48001122row6_col1 {\n",
       "            color:  black;\n",
       "        }    #T_06ad6104_e0e2_11ea_90e0_acde48001122row6_col2 {\n",
       "            color:  black;\n",
       "        }    #T_06ad6104_e0e2_11ea_90e0_acde48001122row6_col3 {\n",
       "            color:  black;\n",
       "        }    #T_06ad6104_e0e2_11ea_90e0_acde48001122row6_col4 {\n",
       "            color:  black;\n",
       "        }    #T_06ad6104_e0e2_11ea_90e0_acde48001122row6_col5 {\n",
       "            color:  black;\n",
       "        }    #T_06ad6104_e0e2_11ea_90e0_acde48001122row6_col6 {\n",
       "            color:  green;\n",
       "        }    #T_06ad6104_e0e2_11ea_90e0_acde48001122row6_col7 {\n",
       "            color:  black;\n",
       "        }    #T_06ad6104_e0e2_11ea_90e0_acde48001122row6_col8 {\n",
       "            color:  black;\n",
       "        }    #T_06ad6104_e0e2_11ea_90e0_acde48001122row6_col9 {\n",
       "            color:  black;\n",
       "        }    #T_06ad6104_e0e2_11ea_90e0_acde48001122row6_col10 {\n",
       "            color:  black;\n",
       "        }    #T_06ad6104_e0e2_11ea_90e0_acde48001122row7_col0 {\n",
       "            color:  black;\n",
       "        }    #T_06ad6104_e0e2_11ea_90e0_acde48001122row7_col1 {\n",
       "            color:  black;\n",
       "        }    #T_06ad6104_e0e2_11ea_90e0_acde48001122row7_col2 {\n",
       "            color:  black;\n",
       "        }    #T_06ad6104_e0e2_11ea_90e0_acde48001122row7_col3 {\n",
       "            color:  black;\n",
       "        }    #T_06ad6104_e0e2_11ea_90e0_acde48001122row7_col4 {\n",
       "            color:  black;\n",
       "        }    #T_06ad6104_e0e2_11ea_90e0_acde48001122row7_col5 {\n",
       "            color:  black;\n",
       "        }    #T_06ad6104_e0e2_11ea_90e0_acde48001122row7_col6 {\n",
       "            color:  black;\n",
       "        }    #T_06ad6104_e0e2_11ea_90e0_acde48001122row7_col7 {\n",
       "            color:  green;\n",
       "        }    #T_06ad6104_e0e2_11ea_90e0_acde48001122row7_col8 {\n",
       "            color:  black;\n",
       "        }    #T_06ad6104_e0e2_11ea_90e0_acde48001122row7_col9 {\n",
       "            color:  black;\n",
       "        }    #T_06ad6104_e0e2_11ea_90e0_acde48001122row7_col10 {\n",
       "            color:  black;\n",
       "        }    #T_06ad6104_e0e2_11ea_90e0_acde48001122row8_col0 {\n",
       "            color:  black;\n",
       "        }    #T_06ad6104_e0e2_11ea_90e0_acde48001122row8_col1 {\n",
       "            color:  black;\n",
       "        }    #T_06ad6104_e0e2_11ea_90e0_acde48001122row8_col2 {\n",
       "            color:  green;\n",
       "        }    #T_06ad6104_e0e2_11ea_90e0_acde48001122row8_col3 {\n",
       "            color:  black;\n",
       "        }    #T_06ad6104_e0e2_11ea_90e0_acde48001122row8_col4 {\n",
       "            color:  black;\n",
       "        }    #T_06ad6104_e0e2_11ea_90e0_acde48001122row8_col5 {\n",
       "            color:  black;\n",
       "        }    #T_06ad6104_e0e2_11ea_90e0_acde48001122row8_col6 {\n",
       "            color:  black;\n",
       "        }    #T_06ad6104_e0e2_11ea_90e0_acde48001122row8_col7 {\n",
       "            color:  black;\n",
       "        }    #T_06ad6104_e0e2_11ea_90e0_acde48001122row8_col8 {\n",
       "            color:  green;\n",
       "        }    #T_06ad6104_e0e2_11ea_90e0_acde48001122row8_col9 {\n",
       "            color:  black;\n",
       "        }    #T_06ad6104_e0e2_11ea_90e0_acde48001122row8_col10 {\n",
       "            color:  black;\n",
       "        }    #T_06ad6104_e0e2_11ea_90e0_acde48001122row9_col0 {\n",
       "            color:  black;\n",
       "        }    #T_06ad6104_e0e2_11ea_90e0_acde48001122row9_col1 {\n",
       "            color:  black;\n",
       "        }    #T_06ad6104_e0e2_11ea_90e0_acde48001122row9_col2 {\n",
       "            color:  black;\n",
       "        }    #T_06ad6104_e0e2_11ea_90e0_acde48001122row9_col3 {\n",
       "            color:  black;\n",
       "        }    #T_06ad6104_e0e2_11ea_90e0_acde48001122row9_col4 {\n",
       "            color:  black;\n",
       "        }    #T_06ad6104_e0e2_11ea_90e0_acde48001122row9_col5 {\n",
       "            color:  black;\n",
       "        }    #T_06ad6104_e0e2_11ea_90e0_acde48001122row9_col6 {\n",
       "            color:  black;\n",
       "        }    #T_06ad6104_e0e2_11ea_90e0_acde48001122row9_col7 {\n",
       "            color:  black;\n",
       "        }    #T_06ad6104_e0e2_11ea_90e0_acde48001122row9_col8 {\n",
       "            color:  black;\n",
       "        }    #T_06ad6104_e0e2_11ea_90e0_acde48001122row9_col9 {\n",
       "            color:  green;\n",
       "        }    #T_06ad6104_e0e2_11ea_90e0_acde48001122row9_col10 {\n",
       "            color:  black;\n",
       "        }    #T_06ad6104_e0e2_11ea_90e0_acde48001122row10_col0 {\n",
       "            color:  black;\n",
       "        }    #T_06ad6104_e0e2_11ea_90e0_acde48001122row10_col1 {\n",
       "            color:  black;\n",
       "        }    #T_06ad6104_e0e2_11ea_90e0_acde48001122row10_col2 {\n",
       "            color:  black;\n",
       "        }    #T_06ad6104_e0e2_11ea_90e0_acde48001122row10_col3 {\n",
       "            color:  black;\n",
       "        }    #T_06ad6104_e0e2_11ea_90e0_acde48001122row10_col4 {\n",
       "            color:  black;\n",
       "        }    #T_06ad6104_e0e2_11ea_90e0_acde48001122row10_col5 {\n",
       "            color:  black;\n",
       "        }    #T_06ad6104_e0e2_11ea_90e0_acde48001122row10_col6 {\n",
       "            color:  black;\n",
       "        }    #T_06ad6104_e0e2_11ea_90e0_acde48001122row10_col7 {\n",
       "            color:  black;\n",
       "        }    #T_06ad6104_e0e2_11ea_90e0_acde48001122row10_col8 {\n",
       "            color:  black;\n",
       "        }    #T_06ad6104_e0e2_11ea_90e0_acde48001122row10_col9 {\n",
       "            color:  black;\n",
       "        }    #T_06ad6104_e0e2_11ea_90e0_acde48001122row10_col10 {\n",
       "            color:  green;\n",
       "        }</style><table id=\"T_06ad6104_e0e2_11ea_90e0_acde48001122\" ><thead>    <tr>        <th class=\"blank level0\" ></th>        <th class=\"col_heading level0 col0\" >bedrooms</th>        <th class=\"col_heading level0 col1\" >bathrooms</th>        <th class=\"col_heading level0 col2\" >sqft_living</th>        <th class=\"col_heading level0 col3\" >sqft_lot</th>        <th class=\"col_heading level0 col4\" >floors</th>        <th class=\"col_heading level0 col5\" >waterfront</th>        <th class=\"col_heading level0 col6\" >view</th>        <th class=\"col_heading level0 col7\" >condition</th>        <th class=\"col_heading level0 col8\" >grade</th>        <th class=\"col_heading level0 col9\" >sqft_basement</th>        <th class=\"col_heading level0 col10\" >yr_built</th>    </tr></thead><tbody>\n",
       "                <tr>\n",
       "                        <th id=\"T_06ad6104_e0e2_11ea_90e0_acde48001122level0_row0\" class=\"row_heading level0 row0\" >bedrooms</th>\n",
       "                        <td id=\"T_06ad6104_e0e2_11ea_90e0_acde48001122row0_col0\" class=\"data row0 col0\" >1.000000</td>\n",
       "                        <td id=\"T_06ad6104_e0e2_11ea_90e0_acde48001122row0_col1\" class=\"data row0 col1\" >0.514159</td>\n",
       "                        <td id=\"T_06ad6104_e0e2_11ea_90e0_acde48001122row0_col2\" class=\"data row0 col2\" >0.575041</td>\n",
       "                        <td id=\"T_06ad6104_e0e2_11ea_90e0_acde48001122row0_col3\" class=\"data row0 col3\" >0.031679</td>\n",
       "                        <td id=\"T_06ad6104_e0e2_11ea_90e0_acde48001122row0_col4\" class=\"data row0 col4\" >0.175879</td>\n",
       "                        <td id=\"T_06ad6104_e0e2_11ea_90e0_acde48001122row0_col5\" class=\"data row0 col5\" >-0.006382</td>\n",
       "                        <td id=\"T_06ad6104_e0e2_11ea_90e0_acde48001122row0_col6\" class=\"data row0 col6\" >0.079519</td>\n",
       "                        <td id=\"T_06ad6104_e0e2_11ea_90e0_acde48001122row0_col7\" class=\"data row0 col7\" >0.029655</td>\n",
       "                        <td id=\"T_06ad6104_e0e2_11ea_90e0_acde48001122row0_col8\" class=\"data row0 col8\" >0.354189</td>\n",
       "                        <td id=\"T_06ad6104_e0e2_11ea_90e0_acde48001122row0_col9\" class=\"data row0 col9\" >0.303222</td>\n",
       "                        <td id=\"T_06ad6104_e0e2_11ea_90e0_acde48001122row0_col10\" class=\"data row0 col10\" >0.166522</td>\n",
       "            </tr>\n",
       "            <tr>\n",
       "                        <th id=\"T_06ad6104_e0e2_11ea_90e0_acde48001122level0_row1\" class=\"row_heading level0 row1\" >bathrooms</th>\n",
       "                        <td id=\"T_06ad6104_e0e2_11ea_90e0_acde48001122row1_col0\" class=\"data row1 col0\" >0.514159</td>\n",
       "                        <td id=\"T_06ad6104_e0e2_11ea_90e0_acde48001122row1_col1\" class=\"data row1 col1\" >1.000000</td>\n",
       "                        <td id=\"T_06ad6104_e0e2_11ea_90e0_acde48001122row1_col2\" class=\"data row1 col2\" >0.755160</td>\n",
       "                        <td id=\"T_06ad6104_e0e2_11ea_90e0_acde48001122row1_col3\" class=\"data row1 col3\" >0.088924</td>\n",
       "                        <td id=\"T_06ad6104_e0e2_11ea_90e0_acde48001122row1_col4\" class=\"data row1 col4\" >0.502218</td>\n",
       "                        <td id=\"T_06ad6104_e0e2_11ea_90e0_acde48001122row1_col5\" class=\"data row1 col5\" >0.063759</td>\n",
       "                        <td id=\"T_06ad6104_e0e2_11ea_90e0_acde48001122row1_col6\" class=\"data row1 col6\" >0.189804</td>\n",
       "                        <td id=\"T_06ad6104_e0e2_11ea_90e0_acde48001122row1_col7\" class=\"data row1 col7\" >-0.119138</td>\n",
       "                        <td id=\"T_06ad6104_e0e2_11ea_90e0_acde48001122row1_col8\" class=\"data row1 col8\" >0.665533</td>\n",
       "                        <td id=\"T_06ad6104_e0e2_11ea_90e0_acde48001122row1_col9\" class=\"data row1 col9\" >0.284275</td>\n",
       "                        <td id=\"T_06ad6104_e0e2_11ea_90e0_acde48001122row1_col10\" class=\"data row1 col10\" >0.538495</td>\n",
       "            </tr>\n",
       "            <tr>\n",
       "                        <th id=\"T_06ad6104_e0e2_11ea_90e0_acde48001122level0_row2\" class=\"row_heading level0 row2\" >sqft_living</th>\n",
       "                        <td id=\"T_06ad6104_e0e2_11ea_90e0_acde48001122row2_col0\" class=\"data row2 col0\" >0.575041</td>\n",
       "                        <td id=\"T_06ad6104_e0e2_11ea_90e0_acde48001122row2_col1\" class=\"data row2 col1\" >0.755160</td>\n",
       "                        <td id=\"T_06ad6104_e0e2_11ea_90e0_acde48001122row2_col2\" class=\"data row2 col2\" >1.000000</td>\n",
       "                        <td id=\"T_06ad6104_e0e2_11ea_90e0_acde48001122row2_col3\" class=\"data row2 col3\" >0.174546</td>\n",
       "                        <td id=\"T_06ad6104_e0e2_11ea_90e0_acde48001122row2_col4\" class=\"data row2 col4\" >0.356090</td>\n",
       "                        <td id=\"T_06ad6104_e0e2_11ea_90e0_acde48001122row2_col5\" class=\"data row2 col5\" >0.103648</td>\n",
       "                        <td id=\"T_06ad6104_e0e2_11ea_90e0_acde48001122row2_col6\" class=\"data row2 col6\" >0.286298</td>\n",
       "                        <td id=\"T_06ad6104_e0e2_11ea_90e0_acde48001122row2_col7\" class=\"data row2 col7\" >-0.054219</td>\n",
       "                        <td id=\"T_06ad6104_e0e2_11ea_90e0_acde48001122row2_col8\" class=\"data row2 col8\" >0.763293</td>\n",
       "                        <td id=\"T_06ad6104_e0e2_11ea_90e0_acde48001122row2_col9\" class=\"data row2 col9\" >0.436301</td>\n",
       "                        <td id=\"T_06ad6104_e0e2_11ea_90e0_acde48001122row2_col10\" class=\"data row2 col10\" >0.346751</td>\n",
       "            </tr>\n",
       "            <tr>\n",
       "                        <th id=\"T_06ad6104_e0e2_11ea_90e0_acde48001122level0_row3\" class=\"row_heading level0 row3\" >sqft_lot</th>\n",
       "                        <td id=\"T_06ad6104_e0e2_11ea_90e0_acde48001122row3_col0\" class=\"data row3 col0\" >0.031679</td>\n",
       "                        <td id=\"T_06ad6104_e0e2_11ea_90e0_acde48001122row3_col1\" class=\"data row3 col1\" >0.088924</td>\n",
       "                        <td id=\"T_06ad6104_e0e2_11ea_90e0_acde48001122row3_col2\" class=\"data row3 col2\" >0.174546</td>\n",
       "                        <td id=\"T_06ad6104_e0e2_11ea_90e0_acde48001122row3_col3\" class=\"data row3 col3\" >1.000000</td>\n",
       "                        <td id=\"T_06ad6104_e0e2_11ea_90e0_acde48001122row3_col4\" class=\"data row3 col4\" >-0.003721</td>\n",
       "                        <td id=\"T_06ad6104_e0e2_11ea_90e0_acde48001122row3_col5\" class=\"data row3 col5\" >0.021667</td>\n",
       "                        <td id=\"T_06ad6104_e0e2_11ea_90e0_acde48001122row3_col6\" class=\"data row3 col6\" >0.074117</td>\n",
       "                        <td id=\"T_06ad6104_e0e2_11ea_90e0_acde48001122row3_col7\" class=\"data row3 col7\" >-0.008255</td>\n",
       "                        <td id=\"T_06ad6104_e0e2_11ea_90e0_acde48001122row3_col8\" class=\"data row3 col8\" >0.115752</td>\n",
       "                        <td id=\"T_06ad6104_e0e2_11ea_90e0_acde48001122row3_col9\" class=\"data row3 col9\" >0.015649</td>\n",
       "                        <td id=\"T_06ad6104_e0e2_11ea_90e0_acde48001122row3_col10\" class=\"data row3 col10\" >0.054220</td>\n",
       "            </tr>\n",
       "            <tr>\n",
       "                        <th id=\"T_06ad6104_e0e2_11ea_90e0_acde48001122level0_row4\" class=\"row_heading level0 row4\" >floors</th>\n",
       "                        <td id=\"T_06ad6104_e0e2_11ea_90e0_acde48001122row4_col0\" class=\"data row4 col0\" >0.175879</td>\n",
       "                        <td id=\"T_06ad6104_e0e2_11ea_90e0_acde48001122row4_col1\" class=\"data row4 col1\" >0.502218</td>\n",
       "                        <td id=\"T_06ad6104_e0e2_11ea_90e0_acde48001122row4_col2\" class=\"data row4 col2\" >0.356090</td>\n",
       "                        <td id=\"T_06ad6104_e0e2_11ea_90e0_acde48001122row4_col3\" class=\"data row4 col3\" >-0.003721</td>\n",
       "                        <td id=\"T_06ad6104_e0e2_11ea_90e0_acde48001122row4_col4\" class=\"data row4 col4\" >1.000000</td>\n",
       "                        <td id=\"T_06ad6104_e0e2_11ea_90e0_acde48001122row4_col5\" class=\"data row4 col5\" >0.024137</td>\n",
       "                        <td id=\"T_06ad6104_e0e2_11ea_90e0_acde48001122row4_col6\" class=\"data row4 col6\" >0.031867</td>\n",
       "                        <td id=\"T_06ad6104_e0e2_11ea_90e0_acde48001122row4_col7\" class=\"data row4 col7\" >-0.258151</td>\n",
       "                        <td id=\"T_06ad6104_e0e2_11ea_90e0_acde48001122row4_col8\" class=\"data row4 col8\" >0.459584</td>\n",
       "                        <td id=\"T_06ad6104_e0e2_11ea_90e0_acde48001122row4_col9\" class=\"data row4 col9\" >-0.244948</td>\n",
       "                        <td id=\"T_06ad6104_e0e2_11ea_90e0_acde48001122row4_col10\" class=\"data row4 col10\" >0.506158</td>\n",
       "            </tr>\n",
       "            <tr>\n",
       "                        <th id=\"T_06ad6104_e0e2_11ea_90e0_acde48001122level0_row5\" class=\"row_heading level0 row5\" >waterfront</th>\n",
       "                        <td id=\"T_06ad6104_e0e2_11ea_90e0_acde48001122row5_col0\" class=\"data row5 col0\" >-0.006382</td>\n",
       "                        <td id=\"T_06ad6104_e0e2_11ea_90e0_acde48001122row5_col1\" class=\"data row5 col1\" >0.063759</td>\n",
       "                        <td id=\"T_06ad6104_e0e2_11ea_90e0_acde48001122row5_col2\" class=\"data row5 col2\" >0.103648</td>\n",
       "                        <td id=\"T_06ad6104_e0e2_11ea_90e0_acde48001122row5_col3\" class=\"data row5 col3\" >0.021667</td>\n",
       "                        <td id=\"T_06ad6104_e0e2_11ea_90e0_acde48001122row5_col4\" class=\"data row5 col4\" >0.024137</td>\n",
       "                        <td id=\"T_06ad6104_e0e2_11ea_90e0_acde48001122row5_col5\" class=\"data row5 col5\" >1.000000</td>\n",
       "                        <td id=\"T_06ad6104_e0e2_11ea_90e0_acde48001122row5_col6\" class=\"data row5 col6\" >0.399552</td>\n",
       "                        <td id=\"T_06ad6104_e0e2_11ea_90e0_acde48001122row5_col7\" class=\"data row5 col7\" >0.016753</td>\n",
       "                        <td id=\"T_06ad6104_e0e2_11ea_90e0_acde48001122row5_col8\" class=\"data row5 col8\" >0.082636</td>\n",
       "                        <td id=\"T_06ad6104_e0e2_11ea_90e0_acde48001122row5_col9\" class=\"data row5 col9\" >0.080098</td>\n",
       "                        <td id=\"T_06ad6104_e0e2_11ea_90e0_acde48001122row5_col10\" class=\"data row5 col10\" >0.000085</td>\n",
       "            </tr>\n",
       "            <tr>\n",
       "                        <th id=\"T_06ad6104_e0e2_11ea_90e0_acde48001122level0_row6\" class=\"row_heading level0 row6\" >view</th>\n",
       "                        <td id=\"T_06ad6104_e0e2_11ea_90e0_acde48001122row6_col0\" class=\"data row6 col0\" >0.079519</td>\n",
       "                        <td id=\"T_06ad6104_e0e2_11ea_90e0_acde48001122row6_col1\" class=\"data row6 col1\" >0.189804</td>\n",
       "                        <td id=\"T_06ad6104_e0e2_11ea_90e0_acde48001122row6_col2\" class=\"data row6 col2\" >0.286298</td>\n",
       "                        <td id=\"T_06ad6104_e0e2_11ea_90e0_acde48001122row6_col3\" class=\"data row6 col3\" >0.074117</td>\n",
       "                        <td id=\"T_06ad6104_e0e2_11ea_90e0_acde48001122row6_col4\" class=\"data row6 col4\" >0.031867</td>\n",
       "                        <td id=\"T_06ad6104_e0e2_11ea_90e0_acde48001122row6_col5\" class=\"data row6 col5\" >0.399552</td>\n",
       "                        <td id=\"T_06ad6104_e0e2_11ea_90e0_acde48001122row6_col6\" class=\"data row6 col6\" >1.000000</td>\n",
       "                        <td id=\"T_06ad6104_e0e2_11ea_90e0_acde48001122row6_col7\" class=\"data row6 col7\" >0.047865</td>\n",
       "                        <td id=\"T_06ad6104_e0e2_11ea_90e0_acde48001122row6_col8\" class=\"data row6 col8\" >0.254106</td>\n",
       "                        <td id=\"T_06ad6104_e0e2_11ea_90e0_acde48001122row6_col9\" class=\"data row6 col9\" >0.277867</td>\n",
       "                        <td id=\"T_06ad6104_e0e2_11ea_90e0_acde48001122row6_col10\" class=\"data row6 col10\" >-0.014781</td>\n",
       "            </tr>\n",
       "            <tr>\n",
       "                        <th id=\"T_06ad6104_e0e2_11ea_90e0_acde48001122level0_row7\" class=\"row_heading level0 row7\" >condition</th>\n",
       "                        <td id=\"T_06ad6104_e0e2_11ea_90e0_acde48001122row7_col0\" class=\"data row7 col0\" >0.029655</td>\n",
       "                        <td id=\"T_06ad6104_e0e2_11ea_90e0_acde48001122row7_col1\" class=\"data row7 col1\" >-0.119138</td>\n",
       "                        <td id=\"T_06ad6104_e0e2_11ea_90e0_acde48001122row7_col2\" class=\"data row7 col2\" >-0.054219</td>\n",
       "                        <td id=\"T_06ad6104_e0e2_11ea_90e0_acde48001122row7_col3\" class=\"data row7 col3\" >-0.008255</td>\n",
       "                        <td id=\"T_06ad6104_e0e2_11ea_90e0_acde48001122row7_col4\" class=\"data row7 col4\" >-0.258151</td>\n",
       "                        <td id=\"T_06ad6104_e0e2_11ea_90e0_acde48001122row7_col5\" class=\"data row7 col5\" >0.016753</td>\n",
       "                        <td id=\"T_06ad6104_e0e2_11ea_90e0_acde48001122row7_col6\" class=\"data row7 col6\" >0.047865</td>\n",
       "                        <td id=\"T_06ad6104_e0e2_11ea_90e0_acde48001122row7_col7\" class=\"data row7 col7\" >1.000000</td>\n",
       "                        <td id=\"T_06ad6104_e0e2_11ea_90e0_acde48001122row7_col8\" class=\"data row7 col8\" >-0.137275</td>\n",
       "                        <td id=\"T_06ad6104_e0e2_11ea_90e0_acde48001122row7_col9\" class=\"data row7 col9\" >0.173494</td>\n",
       "                        <td id=\"T_06ad6104_e0e2_11ea_90e0_acde48001122row7_col10\" class=\"data row7 col10\" >-0.388381</td>\n",
       "            </tr>\n",
       "            <tr>\n",
       "                        <th id=\"T_06ad6104_e0e2_11ea_90e0_acde48001122level0_row8\" class=\"row_heading level0 row8\" >grade</th>\n",
       "                        <td id=\"T_06ad6104_e0e2_11ea_90e0_acde48001122row8_col0\" class=\"data row8 col0\" >0.354189</td>\n",
       "                        <td id=\"T_06ad6104_e0e2_11ea_90e0_acde48001122row8_col1\" class=\"data row8 col1\" >0.665533</td>\n",
       "                        <td id=\"T_06ad6104_e0e2_11ea_90e0_acde48001122row8_col2\" class=\"data row8 col2\" >0.763293</td>\n",
       "                        <td id=\"T_06ad6104_e0e2_11ea_90e0_acde48001122row8_col3\" class=\"data row8 col3\" >0.115752</td>\n",
       "                        <td id=\"T_06ad6104_e0e2_11ea_90e0_acde48001122row8_col4\" class=\"data row8 col4\" >0.459584</td>\n",
       "                        <td id=\"T_06ad6104_e0e2_11ea_90e0_acde48001122row8_col5\" class=\"data row8 col5\" >0.082636</td>\n",
       "                        <td id=\"T_06ad6104_e0e2_11ea_90e0_acde48001122row8_col6\" class=\"data row8 col6\" >0.254106</td>\n",
       "                        <td id=\"T_06ad6104_e0e2_11ea_90e0_acde48001122row8_col7\" class=\"data row8 col7\" >-0.137275</td>\n",
       "                        <td id=\"T_06ad6104_e0e2_11ea_90e0_acde48001122row8_col8\" class=\"data row8 col8\" >1.000000</td>\n",
       "                        <td id=\"T_06ad6104_e0e2_11ea_90e0_acde48001122row8_col9\" class=\"data row8 col9\" >0.171130</td>\n",
       "                        <td id=\"T_06ad6104_e0e2_11ea_90e0_acde48001122row8_col10\" class=\"data row8 col10\" >0.463931</td>\n",
       "            </tr>\n",
       "            <tr>\n",
       "                        <th id=\"T_06ad6104_e0e2_11ea_90e0_acde48001122level0_row9\" class=\"row_heading level0 row9\" >sqft_basement</th>\n",
       "                        <td id=\"T_06ad6104_e0e2_11ea_90e0_acde48001122row9_col0\" class=\"data row9 col0\" >0.303222</td>\n",
       "                        <td id=\"T_06ad6104_e0e2_11ea_90e0_acde48001122row9_col1\" class=\"data row9 col1\" >0.284275</td>\n",
       "                        <td id=\"T_06ad6104_e0e2_11ea_90e0_acde48001122row9_col2\" class=\"data row9 col2\" >0.436301</td>\n",
       "                        <td id=\"T_06ad6104_e0e2_11ea_90e0_acde48001122row9_col3\" class=\"data row9 col3\" >0.015649</td>\n",
       "                        <td id=\"T_06ad6104_e0e2_11ea_90e0_acde48001122row9_col4\" class=\"data row9 col4\" >-0.244948</td>\n",
       "                        <td id=\"T_06ad6104_e0e2_11ea_90e0_acde48001122row9_col5\" class=\"data row9 col5\" >0.080098</td>\n",
       "                        <td id=\"T_06ad6104_e0e2_11ea_90e0_acde48001122row9_col6\" class=\"data row9 col6\" >0.277867</td>\n",
       "                        <td id=\"T_06ad6104_e0e2_11ea_90e0_acde48001122row9_col7\" class=\"data row9 col7\" >0.173494</td>\n",
       "                        <td id=\"T_06ad6104_e0e2_11ea_90e0_acde48001122row9_col8\" class=\"data row9 col8\" >0.171130</td>\n",
       "                        <td id=\"T_06ad6104_e0e2_11ea_90e0_acde48001122row9_col9\" class=\"data row9 col9\" >1.000000</td>\n",
       "                        <td id=\"T_06ad6104_e0e2_11ea_90e0_acde48001122row9_col10\" class=\"data row9 col10\" >-0.099798</td>\n",
       "            </tr>\n",
       "            <tr>\n",
       "                        <th id=\"T_06ad6104_e0e2_11ea_90e0_acde48001122level0_row10\" class=\"row_heading level0 row10\" >yr_built</th>\n",
       "                        <td id=\"T_06ad6104_e0e2_11ea_90e0_acde48001122row10_col0\" class=\"data row10 col0\" >0.166522</td>\n",
       "                        <td id=\"T_06ad6104_e0e2_11ea_90e0_acde48001122row10_col1\" class=\"data row10 col1\" >0.538495</td>\n",
       "                        <td id=\"T_06ad6104_e0e2_11ea_90e0_acde48001122row10_col2\" class=\"data row10 col2\" >0.346751</td>\n",
       "                        <td id=\"T_06ad6104_e0e2_11ea_90e0_acde48001122row10_col3\" class=\"data row10 col3\" >0.054220</td>\n",
       "                        <td id=\"T_06ad6104_e0e2_11ea_90e0_acde48001122row10_col4\" class=\"data row10 col4\" >0.506158</td>\n",
       "                        <td id=\"T_06ad6104_e0e2_11ea_90e0_acde48001122row10_col5\" class=\"data row10 col5\" >0.000085</td>\n",
       "                        <td id=\"T_06ad6104_e0e2_11ea_90e0_acde48001122row10_col6\" class=\"data row10 col6\" >-0.014781</td>\n",
       "                        <td id=\"T_06ad6104_e0e2_11ea_90e0_acde48001122row10_col7\" class=\"data row10 col7\" >-0.388381</td>\n",
       "                        <td id=\"T_06ad6104_e0e2_11ea_90e0_acde48001122row10_col8\" class=\"data row10 col8\" >0.463931</td>\n",
       "                        <td id=\"T_06ad6104_e0e2_11ea_90e0_acde48001122row10_col9\" class=\"data row10 col9\" >-0.099798</td>\n",
       "                        <td id=\"T_06ad6104_e0e2_11ea_90e0_acde48001122row10_col10\" class=\"data row10 col10\" >1.000000</td>\n",
       "            </tr>\n",
       "    </tbody></table>"
      ],
      "text/plain": [
       "<pandas.io.formats.style.Styler at 0x7f8544fa99d0>"
      ]
     },
     "execution_count": 39,
     "metadata": {},
     "output_type": "execute_result"
    }
   ],
   "source": [
    "s = corr.style.applymap(color)\n",
    "s"
   ]
  },
  {
   "cell_type": "code",
   "execution_count": 40,
   "metadata": {
    "ExecuteTime": {
     "end_time": "2020-08-17T23:33:34.120822Z",
     "start_time": "2020-08-17T23:33:33.858554Z"
    }
   },
   "outputs": [
    {
     "data": {
      "text/plain": [
       "<matplotlib.axes._subplots.AxesSubplot at 0x7f8544fbc910>"
      ]
     },
     "execution_count": 40,
     "metadata": {},
     "output_type": "execute_result"
    },
    {
     "data": {
      "image/png": "[encoded data removed]",
      "text/plain": [
       "<Figure size 720x720 with 2 Axes>"
      ]
     },
     "metadata": {
      "needs_background": "light"
     },
     "output_type": "display_data"
    }
   ],
   "source": [
    "plt.figure(figsize=(10,10))\n",
    "sns.heatmap(corr)"
   ]
  },
  {
   "cell_type": "markdown",
   "metadata": {},
   "source": [
    "## Run prliminary OLS"
   ]
  },
  {
   "cell_type": "code",
   "execution_count": 128,
   "metadata": {
    "ExecuteTime": {
     "end_time": "2020-08-19T20:20:58.286761Z",
     "start_time": "2020-08-19T20:20:58.283618Z"
    }
   },
   "outputs": [],
   "source": [
    "ols_features =['bedrooms', 'bathrooms', 'sqft_living', 'sqft_lot', 'floors',\n",
    "       'waterfront', 'view', 'condition', 'grade', 'sqft_basement',\n",
    "       'yr_built']#, 'catagorical_98001',\n",
    "#        'catagorical_98002', 'catagorical_98003', 'catagorical_98004',\n",
    "#        'catagorical_98005', 'catagorical_98006', 'catagorical_98007',\n",
    "#        'catagorical_98008', 'catagorical_98010', 'catagorical_98011',\n",
    "#        'catagorical_98014', 'catagorical_98019', 'catagorical_98022',\n",
    "#        'catagorical_98023', 'catagorical_98024', 'catagorical_98027',\n",
    "#        'catagorical_98028', 'catagorical_98029', 'catagorical_98030',\n",
    "#        'catagorical_98031', 'catagorical_98032', 'catagorical_98033',\n",
    "#        'catagorical_98034', 'catagorical_98038', 'catagorical_98039',\n",
    "#        'catagorical_98040', 'catagorical_98042', 'catagorical_98045',\n",
    "#        'catagorical_98052', 'catagorical_98053', 'catagorical_98055',\n",
    "#        'catagorical_98056', 'catagorical_98058', 'catagorical_98059',\n",
    "#        'catagorical_98065', 'catagorical_98070', 'catagorical_98072',\n",
    "#        'catagorical_98074', 'catagorical_98075', 'catagorical_98077',\n",
    "#        'catagorical_98092', 'catagorical_98102', 'catagorical_98103',\n",
    "#        'catagorical_98105', 'catagorical_98106', 'catagorical_98107',\n",
    "#        'catagorical_98108', 'catagorical_98109', 'catagorical_98112',\n",
    "#        'catagorical_98115', 'catagorical_98116', 'catagorical_98117',\n",
    "#        'catagorical_98118', 'catagorical_98119', 'catagorical_98122',\n",
    "#        'catagorical_98125', 'catagorical_98126', 'catagorical_98133',\n",
    "#        'catagorical_98136', 'catagorical_98144', 'catagorical_98146',\n",
    "#        'catagorical_98148', 'catagorical_98155', 'catagorical_98166',\n",
    "#        'catagorical_98168', 'catagorical_98177', 'catagorical_98178',\n",
    "#        'catagorical_98188', 'catagorical_98198', 'catagorical_98199']"
   ]
  },
  {
   "cell_type": "code",
   "execution_count": 129,
   "metadata": {
    "ExecuteTime": {
     "end_time": "2020-08-19T20:21:02.968812Z",
     "start_time": "2020-08-19T20:21:02.946659Z"
    },
    "collapsed": true
   },
   "outputs": [
    {
     "name": "stdout",
     "output_type": "stream",
     "text": [
      "3     10012\n",
      "4      6948\n",
      "2      2808\n",
      "5      1631\n",
      "6       286\n",
      "1       209\n",
      "7        38\n",
      "8        13\n",
      "0        13\n",
      "9         6\n",
      "10        3\n",
      "11        1\n",
      "33        1\n",
      "Name: bedrooms, dtype: int64\n",
      "2.50    5430\n",
      "1.00    3968\n",
      "1.75    3104\n",
      "2.25    2079\n",
      "2.00    1964\n",
      "1.50    1478\n",
      "2.75    1191\n",
      "3.00     765\n",
      "3.50     735\n",
      "3.25     595\n",
      "3.75     155\n",
      "4.00     140\n",
      "4.50     102\n",
      "4.25      79\n",
      "0.75      74\n",
      "4.75      23\n",
      "5.00      21\n",
      "5.25      13\n",
      "0.00      10\n",
      "5.50      10\n",
      "1.25       9\n",
      "6.00       6\n",
      "5.75       4\n",
      "0.50       4\n",
      "6.25       2\n",
      "6.75       2\n",
      "6.50       2\n",
      "8.00       2\n",
      "7.50       1\n",
      "7.75       1\n",
      "Name: bathrooms, dtype: int64\n",
      "1300    142\n",
      "1400    141\n",
      "1010    139\n",
      "1440    133\n",
      "1800    131\n",
      "       ... \n",
      "3001      1\n",
      "4970      1\n",
      "2905      1\n",
      "2793      1\n",
      "1975      1\n",
      "Name: sqft_living, Length: 1038, dtype: int64\n",
      "5000     364\n",
      "6000     298\n",
      "4000     255\n",
      "7200     224\n",
      "4800     124\n",
      "        ... \n",
      "10946      1\n",
      "8899       1\n",
      "6852       1\n",
      "9976       1\n",
      "36862      1\n",
      "Name: sqft_lot, Length: 9782, dtype: int64\n",
      "1.0    10924\n",
      "2.0     8305\n",
      "1.5     1954\n",
      "3.0      617\n",
      "2.5      161\n",
      "3.5        8\n",
      "Name: floors, dtype: int64\n",
      "0    21806\n",
      "1      163\n",
      "Name: waterfront, dtype: int64\n",
      "0    19829\n",
      "2      965\n",
      "3      516\n",
      "1      334\n",
      "4      325\n",
      "Name: view, dtype: int64\n",
      "3    14271\n",
      "4     5747\n",
      "5     1729\n",
      "2      190\n",
      "1       32\n",
      "Name: condition, dtype: int64\n",
      "7     9151\n",
      "8     6116\n",
      "9     2633\n",
      "6     2124\n",
      "10    1142\n",
      "11     405\n",
      "5      260\n",
      "12      92\n",
      "4       29\n",
      "13      13\n",
      "3        3\n",
      "1        1\n",
      "Name: grade, dtype: int64\n",
      "0       13350\n",
      "700       224\n",
      "600       223\n",
      "500       220\n",
      "800       206\n",
      "        ...  \n",
      "792         1\n",
      "2590        1\n",
      "935         1\n",
      "2390        1\n",
      "248         1\n",
      "Name: sqft_basement, Length: 306, dtype: int64\n",
      "2014    650\n",
      "2005    485\n",
      "2006    478\n",
      "2004    467\n",
      "2003    457\n",
      "       ... \n",
      "1901     28\n",
      "1933     25\n",
      "1902     25\n",
      "1935     19\n",
      "1934     14\n",
      "Name: yr_built, Length: 116, dtype: int64\n"
     ]
    }
   ],
   "source": [
    "for i in ols_features:\n",
    "    print(df[i].value_counts())\n"
   ]
  },
  {
   "cell_type": "markdown",
   "metadata": {},
   "source": [
    "I'm removing lat and long since we already have a view and zipcode column\n",
    "This will reduce multicolinearity "
   ]
  },
  {
   "cell_type": "code",
   "execution_count": 130,
   "metadata": {
    "ExecuteTime": {
     "end_time": "2020-08-19T20:21:28.362559Z",
     "start_time": "2020-08-19T20:21:28.360055Z"
    }
   },
   "outputs": [],
   "source": [
    "ols_formula ='price~'+'+'.join(ols_features)"
   ]
  },
  {
   "cell_type": "code",
   "execution_count": 131,
   "metadata": {
    "ExecuteTime": {
     "end_time": "2020-08-19T20:21:30.066290Z",
     "start_time": "2020-08-19T20:21:29.954987Z"
    },
    "scrolled": false
   },
   "outputs": [
    {
     "data": {
      "text/html": [
       "<table class=\"simpletable\">\n",
       "<caption>OLS Regression Results</caption>\n",
       "<tr>\n",
       "  <th>Dep. Variable:</th>          <td>price</td>      <th>  R-squared:         </th>  <td>   0.638</td>  \n",
       "</tr>\n",
       "<tr>\n",
       "  <th>Model:</th>                   <td>OLS</td>       <th>  Adj. R-squared:    </th>  <td>   0.638</td>  \n",
       "</tr>\n",
       "<tr>\n",
       "  <th>Method:</th>             <td>Least Squares</td>  <th>  F-statistic:       </th>  <td>   3520.</td>  \n",
       "</tr>\n",
       "<tr>\n",
       "  <th>Date:</th>             <td>Wed, 19 Aug 2020</td> <th>  Prob (F-statistic):</th>   <td>  0.00</td>   \n",
       "</tr>\n",
       "<tr>\n",
       "  <th>Time:</th>                 <td>13:21:30</td>     <th>  Log-Likelihood:    </th> <td>-3.0146e+05</td>\n",
       "</tr>\n",
       "<tr>\n",
       "  <th>No. Observations:</th>      <td> 21969</td>      <th>  AIC:               </th>  <td>6.029e+05</td> \n",
       "</tr>\n",
       "<tr>\n",
       "  <th>Df Residuals:</th>          <td> 21957</td>      <th>  BIC:               </th>  <td>6.030e+05</td> \n",
       "</tr>\n",
       "<tr>\n",
       "  <th>Df Model:</th>              <td>    11</td>      <th>                     </th>      <td> </td>     \n",
       "</tr>\n",
       "<tr>\n",
       "  <th>Covariance Type:</th>      <td>nonrobust</td>    <th>                     </th>      <td> </td>     \n",
       "</tr>\n",
       "</table>\n",
       "<table class=\"simpletable\">\n",
       "<tr>\n",
       "        <td></td>           <th>coef</th>     <th>std err</th>      <th>t</th>      <th>P>|t|</th>  <th>[0.025</th>    <th>0.975]</th>  \n",
       "</tr>\n",
       "<tr>\n",
       "  <th>Intercept</th>     <td> 5.436e+06</td> <td> 1.39e+05</td> <td>   39.012</td> <td> 0.000</td> <td> 5.16e+06</td> <td> 5.71e+06</td>\n",
       "</tr>\n",
       "<tr>\n",
       "  <th>bedrooms</th>      <td>-3.823e+04</td> <td> 2042.302</td> <td>  -18.720</td> <td> 0.000</td> <td>-4.22e+04</td> <td>-3.42e+04</td>\n",
       "</tr>\n",
       "<tr>\n",
       "  <th>bathrooms</th>     <td> 3.965e+04</td> <td> 3531.497</td> <td>   11.228</td> <td> 0.000</td> <td> 3.27e+04</td> <td> 4.66e+04</td>\n",
       "</tr>\n",
       "<tr>\n",
       "  <th>sqft_living</th>   <td>  173.3879</td> <td>    3.543</td> <td>   48.944</td> <td> 0.000</td> <td>  166.444</td> <td>  180.332</td>\n",
       "</tr>\n",
       "<tr>\n",
       "  <th>sqft_lot</th>      <td>   -0.2679</td> <td>    0.037</td> <td>   -7.200</td> <td> 0.000</td> <td>   -0.341</td> <td>   -0.195</td>\n",
       "</tr>\n",
       "<tr>\n",
       "  <th>floors</th>        <td> 2.293e+04</td> <td> 3792.993</td> <td>    6.045</td> <td> 0.000</td> <td> 1.55e+04</td> <td> 3.04e+04</td>\n",
       "</tr>\n",
       "<tr>\n",
       "  <th>waterfront</th>    <td> 5.922e+05</td> <td> 1.89e+04</td> <td>   31.254</td> <td> 0.000</td> <td> 5.55e+05</td> <td> 6.29e+05</td>\n",
       "</tr>\n",
       "<tr>\n",
       "  <th>view</th>          <td> 5.061e+04</td> <td> 2276.173</td> <td>   22.233</td> <td> 0.000</td> <td> 4.61e+04</td> <td> 5.51e+04</td>\n",
       "</tr>\n",
       "<tr>\n",
       "  <th>condition</th>     <td> 1.738e+04</td> <td> 2519.828</td> <td>    6.899</td> <td> 0.000</td> <td> 1.24e+04</td> <td> 2.23e+04</td>\n",
       "</tr>\n",
       "<tr>\n",
       "  <th>grade</th>         <td> 1.191e+05</td> <td> 2181.138</td> <td>   54.621</td> <td> 0.000</td> <td> 1.15e+05</td> <td> 1.23e+05</td>\n",
       "</tr>\n",
       "<tr>\n",
       "  <th>sqft_basement</th> <td>   10.7503</td> <td>    4.498</td> <td>    2.390</td> <td> 0.017</td> <td>    1.934</td> <td>   19.567</td>\n",
       "</tr>\n",
       "<tr>\n",
       "  <th>yr_built</th>      <td>-3158.1739</td> <td>   71.360</td> <td>  -44.257</td> <td> 0.000</td> <td>-3298.044</td> <td>-3018.304</td>\n",
       "</tr>\n",
       "</table>\n",
       "<table class=\"simpletable\">\n",
       "<tr>\n",
       "  <th>Omnibus:</th>       <td>16384.205</td> <th>  Durbin-Watson:     </th>  <td>   1.157</td>  \n",
       "</tr>\n",
       "<tr>\n",
       "  <th>Prob(Omnibus):</th>  <td> 0.000</td>   <th>  Jarque-Bera (JB):  </th> <td>1122152.890</td>\n",
       "</tr>\n",
       "<tr>\n",
       "  <th>Skew:</th>           <td> 2.989</td>   <th>  Prob(JB):          </th>  <td>    0.00</td>  \n",
       "</tr>\n",
       "<tr>\n",
       "  <th>Kurtosis:</th>       <td>37.499</td>   <th>  Cond. No.          </th>  <td>4.11e+06</td>  \n",
       "</tr>\n",
       "</table><br/><br/>Warnings:<br/>[1] Standard Errors assume that the covariance matrix of the errors is correctly specified.<br/>[2] The condition number is large, 4.11e+06. This might indicate that there are<br/>strong multicollinearity or other numerical problems."
      ],
      "text/plain": [
       "<class 'statsmodels.iolib.summary.Summary'>\n",
       "\"\"\"\n",
       "                            OLS Regression Results                            \n",
       "==============================================================================\n",
       "Dep. Variable:                  price   R-squared:                       0.638\n",
       "Model:                            OLS   Adj. R-squared:                  0.638\n",
       "Method:                 Least Squares   F-statistic:                     3520.\n",
       "Date:                Wed, 19 Aug 2020   Prob (F-statistic):               0.00\n",
       "Time:                        13:21:30   Log-Likelihood:            -3.0146e+05\n",
       "No. Observations:               21969   AIC:                         6.029e+05\n",
       "Df Residuals:                   21957   BIC:                         6.030e+05\n",
       "Df Model:                          11                                         \n",
       "Covariance Type:            nonrobust                                         \n",
       "=================================================================================\n",
       "                    coef    std err          t      P>|t|      [0.025      0.975]\n",
       "---------------------------------------------------------------------------------\n",
       "Intercept      5.436e+06   1.39e+05     39.012      0.000    5.16e+06    5.71e+06\n",
       "bedrooms      -3.823e+04   2042.302    -18.720      0.000   -4.22e+04   -3.42e+04\n",
       "bathrooms      3.965e+04   3531.497     11.228      0.000    3.27e+04    4.66e+04\n",
       "sqft_living     173.3879      3.543     48.944      0.000     166.444     180.332\n",
       "sqft_lot         -0.2679      0.037     -7.200      0.000      -0.341      -0.195\n",
       "floors         2.293e+04   3792.993      6.045      0.000    1.55e+04    3.04e+04\n",
       "waterfront     5.922e+05   1.89e+04     31.254      0.000    5.55e+05    6.29e+05\n",
       "view           5.061e+04   2276.173     22.233      0.000    4.61e+04    5.51e+04\n",
       "condition      1.738e+04   2519.828      6.899      0.000    1.24e+04    2.23e+04\n",
       "grade          1.191e+05   2181.138     54.621      0.000    1.15e+05    1.23e+05\n",
       "sqft_basement    10.7503      4.498      2.390      0.017       1.934      19.567\n",
       "yr_built      -3158.1739     71.360    -44.257      0.000   -3298.044   -3018.304\n",
       "==============================================================================\n",
       "Omnibus:                    16384.205   Durbin-Watson:                   1.157\n",
       "Prob(Omnibus):                  0.000   Jarque-Bera (JB):          1122152.890\n",
       "Skew:                           2.989   Prob(JB):                         0.00\n",
       "Kurtosis:                      37.499   Cond. No.                     4.11e+06\n",
       "==============================================================================\n",
       "\n",
       "Warnings:\n",
       "[1] Standard Errors assume that the covariance matrix of the errors is correctly specified.\n",
       "[2] The condition number is large, 4.11e+06. This might indicate that there are\n",
       "strong multicollinearity or other numerical problems.\n",
       "\"\"\""
      ]
     },
     "execution_count": 131,
     "metadata": {},
     "output_type": "execute_result"
    }
   ],
   "source": [
    "simple_reg = ols(formula=ols_formula,data=df).fit()\n",
    "simple_reg.summary()\n"
   ]
  },
  {
   "cell_type": "markdown",
   "metadata": {},
   "source": [
    "# Make all this with train test split"
   ]
  },
  {
   "cell_type": "code",
   "execution_count": 132,
   "metadata": {
    "ExecuteTime": {
     "end_time": "2020-08-19T20:21:42.345607Z",
     "start_time": "2020-08-19T20:21:42.343225Z"
    }
   },
   "outputs": [],
   "source": [
    "from sklearn.preprocessing import StandardScaler\n",
    "from sklearn.model_selection import train_test_split"
   ]
  },
  {
   "cell_type": "code",
   "execution_count": 133,
   "metadata": {
    "ExecuteTime": {
     "end_time": "2020-08-19T20:21:47.504068Z",
     "start_time": "2020-08-19T20:21:47.494836Z"
    }
   },
   "outputs": [],
   "source": [
    "X_train, X_test, y_train, y_test = train_test_split(df[ols_features], df['price'], test_size=0.33, random_state=42)"
   ]
  },
  {
   "cell_type": "markdown",
   "metadata": {},
   "source": [
    "### Standardize and Scale the predictor variables\n",
    "Calling .fit() give us the mean and standard deviation constants to use on all future samples for this dataset"
   ]
  },
  {
   "cell_type": "code",
   "execution_count": 134,
   "metadata": {
    "ExecuteTime": {
     "end_time": "2020-08-19T20:21:48.842633Z",
     "start_time": "2020-08-19T20:21:48.832361Z"
    }
   },
   "outputs": [
    {
     "data": {
      "text/plain": [
       "StandardScaler(copy=True, with_mean=True, with_std=True)"
      ]
     },
     "execution_count": 134,
     "metadata": {},
     "output_type": "execute_result"
    }
   ],
   "source": [
    "scaler = StandardScaler()\n",
    "scaler.fit(X_train)"
   ]
  },
  {
   "cell_type": "code",
   "execution_count": 135,
   "metadata": {
    "ExecuteTime": {
     "end_time": "2020-08-19T20:21:49.784828Z",
     "start_time": "2020-08-19T20:21:49.767570Z"
    },
    "scrolled": true
   },
   "outputs": [
    {
     "data": {
      "text/html": [
       "<div>\n",
       "<style scoped>\n",
       "    .dataframe tbody tr th:only-of-type {\n",
       "        vertical-align: middle;\n",
       "    }\n",
       "\n",
       "    .dataframe tbody tr th {\n",
       "        vertical-align: top;\n",
       "    }\n",
       "\n",
       "    .dataframe thead th {\n",
       "        text-align: right;\n",
       "    }\n",
       "</style>\n",
       "<table border=\"1\" class=\"dataframe\">\n",
       "  <thead>\n",
       "    <tr style=\"text-align: right;\">\n",
       "      <th></th>\n",
       "      <th>bedrooms</th>\n",
       "      <th>bathrooms</th>\n",
       "      <th>sqft_living</th>\n",
       "      <th>sqft_lot</th>\n",
       "      <th>floors</th>\n",
       "      <th>waterfront</th>\n",
       "      <th>view</th>\n",
       "      <th>condition</th>\n",
       "      <th>grade</th>\n",
       "      <th>sqft_basement</th>\n",
       "      <th>yr_built</th>\n",
       "    </tr>\n",
       "    <tr>\n",
       "      <th>id</th>\n",
       "      <th></th>\n",
       "      <th></th>\n",
       "      <th></th>\n",
       "      <th></th>\n",
       "      <th></th>\n",
       "      <th></th>\n",
       "      <th></th>\n",
       "      <th></th>\n",
       "      <th></th>\n",
       "      <th></th>\n",
       "      <th></th>\n",
       "    </tr>\n",
       "  </thead>\n",
       "  <tbody>\n",
       "    <tr>\n",
       "      <th>9834200925</th>\n",
       "      <td>3</td>\n",
       "      <td>2.25</td>\n",
       "      <td>1340</td>\n",
       "      <td>4080</td>\n",
       "      <td>1.5</td>\n",
       "      <td>0</td>\n",
       "      <td>0</td>\n",
       "      <td>3</td>\n",
       "      <td>6</td>\n",
       "      <td>170</td>\n",
       "      <td>1907</td>\n",
       "    </tr>\n",
       "    <tr>\n",
       "      <th>3955800080</th>\n",
       "      <td>5</td>\n",
       "      <td>1.50</td>\n",
       "      <td>1890</td>\n",
       "      <td>10880</td>\n",
       "      <td>1.0</td>\n",
       "      <td>0</td>\n",
       "      <td>0</td>\n",
       "      <td>3</td>\n",
       "      <td>7</td>\n",
       "      <td>0</td>\n",
       "      <td>1962</td>\n",
       "    </tr>\n",
       "    <tr>\n",
       "      <th>724069023</th>\n",
       "      <td>1</td>\n",
       "      <td>1.25</td>\n",
       "      <td>1810</td>\n",
       "      <td>5070</td>\n",
       "      <td>1.5</td>\n",
       "      <td>1</td>\n",
       "      <td>4</td>\n",
       "      <td>4</td>\n",
       "      <td>8</td>\n",
       "      <td>580</td>\n",
       "      <td>1967</td>\n",
       "    </tr>\n",
       "    <tr>\n",
       "      <th>7691800020</th>\n",
       "      <td>4</td>\n",
       "      <td>2.50</td>\n",
       "      <td>2510</td>\n",
       "      <td>4543</td>\n",
       "      <td>2.0</td>\n",
       "      <td>0</td>\n",
       "      <td>0</td>\n",
       "      <td>3</td>\n",
       "      <td>8</td>\n",
       "      <td>0</td>\n",
       "      <td>2002</td>\n",
       "    </tr>\n",
       "    <tr>\n",
       "      <th>5469000140</th>\n",
       "      <td>4</td>\n",
       "      <td>1.75</td>\n",
       "      <td>1590</td>\n",
       "      <td>7920</td>\n",
       "      <td>2.0</td>\n",
       "      <td>0</td>\n",
       "      <td>0</td>\n",
       "      <td>4</td>\n",
       "      <td>7</td>\n",
       "      <td>0</td>\n",
       "      <td>1960</td>\n",
       "    </tr>\n",
       "    <tr>\n",
       "      <th>...</th>\n",
       "      <td>...</td>\n",
       "      <td>...</td>\n",
       "      <td>...</td>\n",
       "      <td>...</td>\n",
       "      <td>...</td>\n",
       "      <td>...</td>\n",
       "      <td>...</td>\n",
       "      <td>...</td>\n",
       "      <td>...</td>\n",
       "      <td>...</td>\n",
       "      <td>...</td>\n",
       "    </tr>\n",
       "    <tr>\n",
       "      <th>4193500140</th>\n",
       "      <td>3</td>\n",
       "      <td>1.75</td>\n",
       "      <td>1800</td>\n",
       "      <td>8000</td>\n",
       "      <td>1.0</td>\n",
       "      <td>0</td>\n",
       "      <td>0</td>\n",
       "      <td>3</td>\n",
       "      <td>8</td>\n",
       "      <td>0</td>\n",
       "      <td>1972</td>\n",
       "    </tr>\n",
       "    <tr>\n",
       "      <th>9541600350</th>\n",
       "      <td>3</td>\n",
       "      <td>2.25</td>\n",
       "      <td>2240</td>\n",
       "      <td>8800</td>\n",
       "      <td>1.0</td>\n",
       "      <td>0</td>\n",
       "      <td>0</td>\n",
       "      <td>5</td>\n",
       "      <td>8</td>\n",
       "      <td>0</td>\n",
       "      <td>1957</td>\n",
       "    </tr>\n",
       "    <tr>\n",
       "      <th>2068000270</th>\n",
       "      <td>5</td>\n",
       "      <td>3.00</td>\n",
       "      <td>3850</td>\n",
       "      <td>14990</td>\n",
       "      <td>1.0</td>\n",
       "      <td>0</td>\n",
       "      <td>0</td>\n",
       "      <td>4</td>\n",
       "      <td>9</td>\n",
       "      <td>1560</td>\n",
       "      <td>1964</td>\n",
       "    </tr>\n",
       "    <tr>\n",
       "      <th>381000110</th>\n",
       "      <td>4</td>\n",
       "      <td>1.75</td>\n",
       "      <td>2720</td>\n",
       "      <td>7810</td>\n",
       "      <td>1.0</td>\n",
       "      <td>0</td>\n",
       "      <td>0</td>\n",
       "      <td>3</td>\n",
       "      <td>8</td>\n",
       "      <td>1210</td>\n",
       "      <td>1952</td>\n",
       "    </tr>\n",
       "    <tr>\n",
       "      <th>7137950460</th>\n",
       "      <td>4</td>\n",
       "      <td>2.50</td>\n",
       "      <td>2070</td>\n",
       "      <td>6175</td>\n",
       "      <td>2.0</td>\n",
       "      <td>0</td>\n",
       "      <td>0</td>\n",
       "      <td>3</td>\n",
       "      <td>8</td>\n",
       "      <td>0</td>\n",
       "      <td>1993</td>\n",
       "    </tr>\n",
       "  </tbody>\n",
       "</table>\n",
       "<p>14719 rows × 11 columns</p>\n",
       "</div>"
      ],
      "text/plain": [
       "            bedrooms  bathrooms  sqft_living  sqft_lot  floors  waterfront  \\\n",
       "id                                                                           \n",
       "9834200925         3       2.25         1340      4080     1.5           0   \n",
       "3955800080         5       1.50         1890     10880     1.0           0   \n",
       "724069023          1       1.25         1810      5070     1.5           1   \n",
       "7691800020         4       2.50         2510      4543     2.0           0   \n",
       "5469000140         4       1.75         1590      7920     2.0           0   \n",
       "...              ...        ...          ...       ...     ...         ...   \n",
       "4193500140         3       1.75         1800      8000     1.0           0   \n",
       "9541600350         3       2.25         2240      8800     1.0           0   \n",
       "2068000270         5       3.00         3850     14990     1.0           0   \n",
       "381000110          4       1.75         2720      7810     1.0           0   \n",
       "7137950460         4       2.50         2070      6175     2.0           0   \n",
       "\n",
       "            view  condition  grade  sqft_basement  yr_built  \n",
       "id                                                           \n",
       "9834200925     0          3      6            170      1907  \n",
       "3955800080     0          3      7              0      1962  \n",
       "724069023      4          4      8            580      1967  \n",
       "7691800020     0          3      8              0      2002  \n",
       "5469000140     0          4      7              0      1960  \n",
       "...          ...        ...    ...            ...       ...  \n",
       "4193500140     0          3      8              0      1972  \n",
       "9541600350     0          5      8              0      1957  \n",
       "2068000270     0          4      9           1560      1964  \n",
       "381000110      0          3      8           1210      1952  \n",
       "7137950460     0          3      8              0      1993  \n",
       "\n",
       "[14719 rows x 11 columns]"
      ]
     },
     "execution_count": 135,
     "metadata": {},
     "output_type": "execute_result"
    }
   ],
   "source": [
    "X_train"
   ]
  },
  {
   "cell_type": "code",
   "execution_count": 136,
   "metadata": {
    "ExecuteTime": {
     "end_time": "2020-08-19T20:21:50.593087Z",
     "start_time": "2020-08-19T20:21:50.588393Z"
    },
    "scrolled": true
   },
   "outputs": [
    {
     "data": {
      "text/plain": [
       "id\n",
       "9834200925     330000.0\n",
       "3955800080     420000.0\n",
       "724069023     1247000.0\n",
       "7691800020     660000.0\n",
       "5469000140     373000.0\n",
       "                ...    \n",
       "4193500140     665000.0\n",
       "9541600350     831000.0\n",
       "2068000270    1400000.0\n",
       "381000110      599950.0\n",
       "7137950460     272000.0\n",
       "Name: price, Length: 14719, dtype: float64"
      ]
     },
     "execution_count": 136,
     "metadata": {},
     "output_type": "execute_result"
    }
   ],
   "source": [
    "y_train"
   ]
  },
  {
   "cell_type": "code",
   "execution_count": 137,
   "metadata": {
    "ExecuteTime": {
     "end_time": "2020-08-19T20:21:51.334005Z",
     "start_time": "2020-08-19T20:21:51.309861Z"
    },
    "scrolled": true
   },
   "outputs": [
    {
     "data": {
      "text/html": [
       "<div>\n",
       "<style scoped>\n",
       "    .dataframe tbody tr th:only-of-type {\n",
       "        vertical-align: middle;\n",
       "    }\n",
       "\n",
       "    .dataframe tbody tr th {\n",
       "        vertical-align: top;\n",
       "    }\n",
       "\n",
       "    .dataframe thead th {\n",
       "        text-align: right;\n",
       "    }\n",
       "</style>\n",
       "<table border=\"1\" class=\"dataframe\">\n",
       "  <thead>\n",
       "    <tr style=\"text-align: right;\">\n",
       "      <th></th>\n",
       "      <th>bedrooms</th>\n",
       "      <th>bathrooms</th>\n",
       "      <th>sqft_living</th>\n",
       "      <th>sqft_lot</th>\n",
       "      <th>floors</th>\n",
       "      <th>waterfront</th>\n",
       "      <th>view</th>\n",
       "      <th>condition</th>\n",
       "      <th>grade</th>\n",
       "      <th>sqft_basement</th>\n",
       "      <th>yr_built</th>\n",
       "      <th>price</th>\n",
       "    </tr>\n",
       "    <tr>\n",
       "      <th>id</th>\n",
       "      <th></th>\n",
       "      <th></th>\n",
       "      <th></th>\n",
       "      <th></th>\n",
       "      <th></th>\n",
       "      <th></th>\n",
       "      <th></th>\n",
       "      <th></th>\n",
       "      <th></th>\n",
       "      <th></th>\n",
       "      <th></th>\n",
       "      <th></th>\n",
       "    </tr>\n",
       "  </thead>\n",
       "  <tbody>\n",
       "    <tr>\n",
       "      <th>9834200925</th>\n",
       "      <td>3</td>\n",
       "      <td>2.25</td>\n",
       "      <td>1340</td>\n",
       "      <td>4080</td>\n",
       "      <td>1.5</td>\n",
       "      <td>0</td>\n",
       "      <td>0</td>\n",
       "      <td>3</td>\n",
       "      <td>6</td>\n",
       "      <td>170</td>\n",
       "      <td>1907</td>\n",
       "      <td>330000.0</td>\n",
       "    </tr>\n",
       "    <tr>\n",
       "      <th>3955800080</th>\n",
       "      <td>5</td>\n",
       "      <td>1.50</td>\n",
       "      <td>1890</td>\n",
       "      <td>10880</td>\n",
       "      <td>1.0</td>\n",
       "      <td>0</td>\n",
       "      <td>0</td>\n",
       "      <td>3</td>\n",
       "      <td>7</td>\n",
       "      <td>0</td>\n",
       "      <td>1962</td>\n",
       "      <td>420000.0</td>\n",
       "    </tr>\n",
       "    <tr>\n",
       "      <th>724069023</th>\n",
       "      <td>1</td>\n",
       "      <td>1.25</td>\n",
       "      <td>1810</td>\n",
       "      <td>5070</td>\n",
       "      <td>1.5</td>\n",
       "      <td>1</td>\n",
       "      <td>4</td>\n",
       "      <td>4</td>\n",
       "      <td>8</td>\n",
       "      <td>580</td>\n",
       "      <td>1967</td>\n",
       "      <td>1247000.0</td>\n",
       "    </tr>\n",
       "    <tr>\n",
       "      <th>7691800020</th>\n",
       "      <td>4</td>\n",
       "      <td>2.50</td>\n",
       "      <td>2510</td>\n",
       "      <td>4543</td>\n",
       "      <td>2.0</td>\n",
       "      <td>0</td>\n",
       "      <td>0</td>\n",
       "      <td>3</td>\n",
       "      <td>8</td>\n",
       "      <td>0</td>\n",
       "      <td>2002</td>\n",
       "      <td>660000.0</td>\n",
       "    </tr>\n",
       "    <tr>\n",
       "      <th>5469000140</th>\n",
       "      <td>4</td>\n",
       "      <td>1.75</td>\n",
       "      <td>1590</td>\n",
       "      <td>7920</td>\n",
       "      <td>2.0</td>\n",
       "      <td>0</td>\n",
       "      <td>0</td>\n",
       "      <td>4</td>\n",
       "      <td>7</td>\n",
       "      <td>0</td>\n",
       "      <td>1960</td>\n",
       "      <td>373000.0</td>\n",
       "    </tr>\n",
       "    <tr>\n",
       "      <th>...</th>\n",
       "      <td>...</td>\n",
       "      <td>...</td>\n",
       "      <td>...</td>\n",
       "      <td>...</td>\n",
       "      <td>...</td>\n",
       "      <td>...</td>\n",
       "      <td>...</td>\n",
       "      <td>...</td>\n",
       "      <td>...</td>\n",
       "      <td>...</td>\n",
       "      <td>...</td>\n",
       "      <td>...</td>\n",
       "    </tr>\n",
       "    <tr>\n",
       "      <th>4193500140</th>\n",
       "      <td>3</td>\n",
       "      <td>1.75</td>\n",
       "      <td>1800</td>\n",
       "      <td>8000</td>\n",
       "      <td>1.0</td>\n",
       "      <td>0</td>\n",
       "      <td>0</td>\n",
       "      <td>3</td>\n",
       "      <td>8</td>\n",
       "      <td>0</td>\n",
       "      <td>1972</td>\n",
       "      <td>665000.0</td>\n",
       "    </tr>\n",
       "    <tr>\n",
       "      <th>9541600350</th>\n",
       "      <td>3</td>\n",
       "      <td>2.25</td>\n",
       "      <td>2240</td>\n",
       "      <td>8800</td>\n",
       "      <td>1.0</td>\n",
       "      <td>0</td>\n",
       "      <td>0</td>\n",
       "      <td>5</td>\n",
       "      <td>8</td>\n",
       "      <td>0</td>\n",
       "      <td>1957</td>\n",
       "      <td>831000.0</td>\n",
       "    </tr>\n",
       "    <tr>\n",
       "      <th>2068000270</th>\n",
       "      <td>5</td>\n",
       "      <td>3.00</td>\n",
       "      <td>3850</td>\n",
       "      <td>14990</td>\n",
       "      <td>1.0</td>\n",
       "      <td>0</td>\n",
       "      <td>0</td>\n",
       "      <td>4</td>\n",
       "      <td>9</td>\n",
       "      <td>1560</td>\n",
       "      <td>1964</td>\n",
       "      <td>1400000.0</td>\n",
       "    </tr>\n",
       "    <tr>\n",
       "      <th>381000110</th>\n",
       "      <td>4</td>\n",
       "      <td>1.75</td>\n",
       "      <td>2720</td>\n",
       "      <td>7810</td>\n",
       "      <td>1.0</td>\n",
       "      <td>0</td>\n",
       "      <td>0</td>\n",
       "      <td>3</td>\n",
       "      <td>8</td>\n",
       "      <td>1210</td>\n",
       "      <td>1952</td>\n",
       "      <td>599950.0</td>\n",
       "    </tr>\n",
       "    <tr>\n",
       "      <th>7137950460</th>\n",
       "      <td>4</td>\n",
       "      <td>2.50</td>\n",
       "      <td>2070</td>\n",
       "      <td>6175</td>\n",
       "      <td>2.0</td>\n",
       "      <td>0</td>\n",
       "      <td>0</td>\n",
       "      <td>3</td>\n",
       "      <td>8</td>\n",
       "      <td>0</td>\n",
       "      <td>1993</td>\n",
       "      <td>272000.0</td>\n",
       "    </tr>\n",
       "  </tbody>\n",
       "</table>\n",
       "<p>14719 rows × 12 columns</p>\n",
       "</div>"
      ],
      "text/plain": [
       "            bedrooms  bathrooms  sqft_living  sqft_lot  floors  waterfront  \\\n",
       "id                                                                           \n",
       "9834200925         3       2.25         1340      4080     1.5           0   \n",
       "3955800080         5       1.50         1890     10880     1.0           0   \n",
       "724069023          1       1.25         1810      5070     1.5           1   \n",
       "7691800020         4       2.50         2510      4543     2.0           0   \n",
       "5469000140         4       1.75         1590      7920     2.0           0   \n",
       "...              ...        ...          ...       ...     ...         ...   \n",
       "4193500140         3       1.75         1800      8000     1.0           0   \n",
       "9541600350         3       2.25         2240      8800     1.0           0   \n",
       "2068000270         5       3.00         3850     14990     1.0           0   \n",
       "381000110          4       1.75         2720      7810     1.0           0   \n",
       "7137950460         4       2.50         2070      6175     2.0           0   \n",
       "\n",
       "            view  condition  grade  sqft_basement  yr_built      price  \n",
       "id                                                                      \n",
       "9834200925     0          3      6            170      1907   330000.0  \n",
       "3955800080     0          3      7              0      1962   420000.0  \n",
       "724069023      4          4      8            580      1967  1247000.0  \n",
       "7691800020     0          3      8              0      2002   660000.0  \n",
       "5469000140     0          4      7              0      1960   373000.0  \n",
       "...          ...        ...    ...            ...       ...        ...  \n",
       "4193500140     0          3      8              0      1972   665000.0  \n",
       "9541600350     0          5      8              0      1957   831000.0  \n",
       "2068000270     0          4      9           1560      1964  1400000.0  \n",
       "381000110      0          3      8           1210      1952   599950.0  \n",
       "7137950460     0          3      8              0      1993   272000.0  \n",
       "\n",
       "[14719 rows x 12 columns]"
      ]
     },
     "execution_count": 137,
     "metadata": {},
     "output_type": "execute_result"
    }
   ],
   "source": [
    "pd.concat([X_train, y_train], axis=1)"
   ]
  },
  {
   "cell_type": "markdown",
   "metadata": {},
   "source": [
    "### Now we will transform X_train dataset\n",
    "and the X_test dataset for later"
   ]
  },
  {
   "cell_type": "code",
   "execution_count": 138,
   "metadata": {
    "ExecuteTime": {
     "end_time": "2020-08-19T20:21:54.434270Z",
     "start_time": "2020-08-19T20:21:54.428325Z"
    }
   },
   "outputs": [],
   "source": [
    "X_trained_scaled = scaler.transform(X_train)\n",
    "X_test_scaled = scaler.transform(X_test)"
   ]
  },
  {
   "cell_type": "code",
   "execution_count": 139,
   "metadata": {
    "ExecuteTime": {
     "end_time": "2020-08-19T20:21:55.467929Z",
     "start_time": "2020-08-19T20:21:55.463920Z"
    }
   },
   "outputs": [
    {
     "data": {
      "text/plain": [
       "(14719, 11)"
      ]
     },
     "execution_count": 139,
     "metadata": {},
     "output_type": "execute_result"
    }
   ],
   "source": [
    "X_trained_scaled.shape"
   ]
  },
  {
   "cell_type": "code",
   "execution_count": null,
   "metadata": {},
   "outputs": [],
   "source": []
  },
  {
   "cell_type": "code",
   "execution_count": null,
   "metadata": {},
   "outputs": [],
   "source": []
  },
  {
   "cell_type": "code",
   "execution_count": 140,
   "metadata": {
    "ExecuteTime": {
     "end_time": "2020-08-19T20:22:05.448629Z",
     "start_time": "2020-08-19T20:22:05.380114Z"
    },
    "scrolled": false
   },
   "outputs": [
    {
     "data": {
      "text/html": [
       "<table class=\"simpletable\">\n",
       "<caption>OLS Regression Results</caption>\n",
       "<tr>\n",
       "  <th>Dep. Variable:</th>          <td>price</td>      <th>  R-squared:         </th>  <td>   0.645</td>  \n",
       "</tr>\n",
       "<tr>\n",
       "  <th>Model:</th>                   <td>OLS</td>       <th>  Adj. R-squared:    </th>  <td>   0.645</td>  \n",
       "</tr>\n",
       "<tr>\n",
       "  <th>Method:</th>             <td>Least Squares</td>  <th>  F-statistic:       </th>  <td>   2431.</td>  \n",
       "</tr>\n",
       "<tr>\n",
       "  <th>Date:</th>             <td>Wed, 19 Aug 2020</td> <th>  Prob (F-statistic):</th>   <td>  0.00</td>   \n",
       "</tr>\n",
       "<tr>\n",
       "  <th>Time:</th>                 <td>13:22:05</td>     <th>  Log-Likelihood:    </th> <td>-2.0210e+05</td>\n",
       "</tr>\n",
       "<tr>\n",
       "  <th>No. Observations:</th>      <td> 14719</td>      <th>  AIC:               </th>  <td>4.042e+05</td> \n",
       "</tr>\n",
       "<tr>\n",
       "  <th>Df Residuals:</th>          <td> 14707</td>      <th>  BIC:               </th>  <td>4.043e+05</td> \n",
       "</tr>\n",
       "<tr>\n",
       "  <th>Df Model:</th>              <td>    11</td>      <th>                     </th>      <td> </td>     \n",
       "</tr>\n",
       "<tr>\n",
       "  <th>Covariance Type:</th>      <td>nonrobust</td>    <th>                     </th>      <td> </td>     \n",
       "</tr>\n",
       "</table>\n",
       "<table class=\"simpletable\">\n",
       "<tr>\n",
       "        <td></td>           <th>coef</th>     <th>std err</th>      <th>t</th>      <th>P>|t|</th>  <th>[0.025</th>    <th>0.975]</th>  \n",
       "</tr>\n",
       "<tr>\n",
       "  <th>Intercept</th>     <td> 5.492e+06</td> <td> 1.73e+05</td> <td>   31.825</td> <td> 0.000</td> <td> 5.15e+06</td> <td> 5.83e+06</td>\n",
       "</tr>\n",
       "<tr>\n",
       "  <th>bedrooms</th>      <td>-3.516e+04</td> <td> 2462.419</td> <td>  -14.278</td> <td> 0.000</td> <td>   -4e+04</td> <td>-3.03e+04</td>\n",
       "</tr>\n",
       "<tr>\n",
       "  <th>bathrooms</th>     <td> 3.899e+04</td> <td> 4342.833</td> <td>    8.978</td> <td> 0.000</td> <td> 3.05e+04</td> <td> 4.75e+04</td>\n",
       "</tr>\n",
       "<tr>\n",
       "  <th>sqft_living</th>   <td>  166.4709</td> <td>    4.329</td> <td>   38.459</td> <td> 0.000</td> <td>  157.986</td> <td>  174.955</td>\n",
       "</tr>\n",
       "<tr>\n",
       "  <th>sqft_lot</th>      <td>   -0.2443</td> <td>    0.044</td> <td>   -5.560</td> <td> 0.000</td> <td>   -0.330</td> <td>   -0.158</td>\n",
       "</tr>\n",
       "<tr>\n",
       "  <th>floors</th>        <td> 2.201e+04</td> <td> 4650.185</td> <td>    4.733</td> <td> 0.000</td> <td> 1.29e+04</td> <td> 3.11e+04</td>\n",
       "</tr>\n",
       "<tr>\n",
       "  <th>waterfront</th>    <td> 6.564e+05</td> <td>  2.3e+04</td> <td>   28.491</td> <td> 0.000</td> <td> 6.11e+05</td> <td> 7.02e+05</td>\n",
       "</tr>\n",
       "<tr>\n",
       "  <th>view</th>          <td> 4.969e+04</td> <td> 2796.255</td> <td>   17.770</td> <td> 0.000</td> <td> 4.42e+04</td> <td> 5.52e+04</td>\n",
       "</tr>\n",
       "<tr>\n",
       "  <th>condition</th>     <td>  1.81e+04</td> <td> 3112.292</td> <td>    5.815</td> <td> 0.000</td> <td>  1.2e+04</td> <td> 2.42e+04</td>\n",
       "</tr>\n",
       "<tr>\n",
       "  <th>grade</th>         <td> 1.265e+05</td> <td> 2669.492</td> <td>   47.371</td> <td> 0.000</td> <td> 1.21e+05</td> <td> 1.32e+05</td>\n",
       "</tr>\n",
       "<tr>\n",
       "  <th>sqft_basement</th> <td>   15.2937</td> <td>    5.534</td> <td>    2.763</td> <td> 0.006</td> <td>    4.446</td> <td>   26.142</td>\n",
       "</tr>\n",
       "<tr>\n",
       "  <th>yr_built</th>      <td>-3213.1719</td> <td>   88.333</td> <td>  -36.376</td> <td> 0.000</td> <td>-3386.316</td> <td>-3040.028</td>\n",
       "</tr>\n",
       "</table>\n",
       "<table class=\"simpletable\">\n",
       "<tr>\n",
       "  <th>Omnibus:</th>       <td>10808.915</td> <th>  Durbin-Watson:     </th>  <td>   2.001</td> \n",
       "</tr>\n",
       "<tr>\n",
       "  <th>Prob(Omnibus):</th>  <td> 0.000</td>   <th>  Jarque-Bera (JB):  </th> <td>742451.697</td>\n",
       "</tr>\n",
       "<tr>\n",
       "  <th>Skew:</th>           <td> 2.908</td>   <th>  Prob(JB):          </th>  <td>    0.00</td> \n",
       "</tr>\n",
       "<tr>\n",
       "  <th>Kurtosis:</th>       <td>37.304</td>   <th>  Cond. No.          </th>  <td>4.30e+06</td> \n",
       "</tr>\n",
       "</table><br/><br/>Warnings:<br/>[1] Standard Errors assume that the covariance matrix of the errors is correctly specified.<br/>[2] The condition number is large, 4.3e+06. This might indicate that there are<br/>strong multicollinearity or other numerical problems."
      ],
      "text/plain": [
       "<class 'statsmodels.iolib.summary.Summary'>\n",
       "\"\"\"\n",
       "                            OLS Regression Results                            \n",
       "==============================================================================\n",
       "Dep. Variable:                  price   R-squared:                       0.645\n",
       "Model:                            OLS   Adj. R-squared:                  0.645\n",
       "Method:                 Least Squares   F-statistic:                     2431.\n",
       "Date:                Wed, 19 Aug 2020   Prob (F-statistic):               0.00\n",
       "Time:                        13:22:05   Log-Likelihood:            -2.0210e+05\n",
       "No. Observations:               14719   AIC:                         4.042e+05\n",
       "Df Residuals:                   14707   BIC:                         4.043e+05\n",
       "Df Model:                          11                                         \n",
       "Covariance Type:            nonrobust                                         \n",
       "=================================================================================\n",
       "                    coef    std err          t      P>|t|      [0.025      0.975]\n",
       "---------------------------------------------------------------------------------\n",
       "Intercept      5.492e+06   1.73e+05     31.825      0.000    5.15e+06    5.83e+06\n",
       "bedrooms      -3.516e+04   2462.419    -14.278      0.000      -4e+04   -3.03e+04\n",
       "bathrooms      3.899e+04   4342.833      8.978      0.000    3.05e+04    4.75e+04\n",
       "sqft_living     166.4709      4.329     38.459      0.000     157.986     174.955\n",
       "sqft_lot         -0.2443      0.044     -5.560      0.000      -0.330      -0.158\n",
       "floors         2.201e+04   4650.185      4.733      0.000    1.29e+04    3.11e+04\n",
       "waterfront     6.564e+05    2.3e+04     28.491      0.000    6.11e+05    7.02e+05\n",
       "view           4.969e+04   2796.255     17.770      0.000    4.42e+04    5.52e+04\n",
       "condition       1.81e+04   3112.292      5.815      0.000     1.2e+04    2.42e+04\n",
       "grade          1.265e+05   2669.492     47.371      0.000    1.21e+05    1.32e+05\n",
       "sqft_basement    15.2937      5.534      2.763      0.006       4.446      26.142\n",
       "yr_built      -3213.1719     88.333    -36.376      0.000   -3386.316   -3040.028\n",
       "==============================================================================\n",
       "Omnibus:                    10808.915   Durbin-Watson:                   2.001\n",
       "Prob(Omnibus):                  0.000   Jarque-Bera (JB):           742451.697\n",
       "Skew:                           2.908   Prob(JB):                         0.00\n",
       "Kurtosis:                      37.304   Cond. No.                     4.30e+06\n",
       "==============================================================================\n",
       "\n",
       "Warnings:\n",
       "[1] Standard Errors assume that the covariance matrix of the errors is correctly specified.\n",
       "[2] The condition number is large, 4.3e+06. This might indicate that there are\n",
       "strong multicollinearity or other numerical problems.\n",
       "\"\"\""
      ]
     },
     "execution_count": 140,
     "metadata": {},
     "output_type": "execute_result"
    }
   ],
   "source": [
    "simple_reg = ols(formula=ols_formula,data=pd.concat([X_train, y_train], axis=1)).fit()\n",
    "simple_reg.summary()"
   ]
  },
  {
   "cell_type": "markdown",
   "metadata": {},
   "source": [
    "## Now run using scikitlearn regression"
   ]
  },
  {
   "cell_type": "code",
   "execution_count": 171,
   "metadata": {
    "ExecuteTime": {
     "end_time": "2020-08-19T20:37:14.274833Z",
     "start_time": "2020-08-19T20:37:14.272331Z"
    }
   },
   "outputs": [],
   "source": [
    "from sklearn.linear_model import LinearRegression\n",
    "from sklearn import metrics\n",
    "from sklearn.metrics import mean_squared_error"
   ]
  },
  {
   "cell_type": "code",
   "execution_count": 172,
   "metadata": {
    "ExecuteTime": {
     "end_time": "2020-08-19T20:37:14.979898Z",
     "start_time": "2020-08-19T20:37:14.974578Z"
    }
   },
   "outputs": [],
   "source": [
    "reg = LinearRegression().fit(X_trained_scaled, y_train)"
   ]
  },
  {
   "cell_type": "code",
   "execution_count": 173,
   "metadata": {
    "ExecuteTime": {
     "end_time": "2020-08-19T20:37:15.606128Z",
     "start_time": "2020-08-19T20:37:15.603120Z"
    }
   },
   "outputs": [
    {
     "data": {
      "text/plain": [
       "541331.2243358921"
      ]
     },
     "execution_count": 173,
     "metadata": {},
     "output_type": "execute_result"
    }
   ],
   "source": [
    "reg.intercept_"
   ]
  },
  {
   "cell_type": "code",
   "execution_count": 174,
   "metadata": {
    "ExecuteTime": {
     "end_time": "2020-08-19T20:37:16.254989Z",
     "start_time": "2020-08-19T20:37:16.251679Z"
    }
   },
   "outputs": [
    {
     "data": {
      "text/plain": [
       "array([-33180.40837781,  30049.66911905, 153761.49960642, -10512.65011073,\n",
       "        11875.97762953,  57291.54630135,  38250.80784482,  11816.43197662,\n",
       "       149638.79961601,   6822.89247667, -92634.84628924])"
      ]
     },
     "execution_count": 174,
     "metadata": {},
     "output_type": "execute_result"
    }
   ],
   "source": [
    "reg.coef_"
   ]
  },
  {
   "cell_type": "code",
   "execution_count": 175,
   "metadata": {
    "ExecuteTime": {
     "end_time": "2020-08-19T20:37:20.844303Z",
     "start_time": "2020-08-19T20:37:20.840555Z"
    }
   },
   "outputs": [
    {
     "data": {
      "text/plain": [
       "Index(['bedrooms', 'bathrooms', 'sqft_living', 'sqft_lot', 'floors',\n",
       "       'waterfront', 'view', 'condition', 'grade', 'sqft_basement',\n",
       "       'yr_built'],\n",
       "      dtype='object')"
      ]
     },
     "execution_count": 175,
     "metadata": {},
     "output_type": "execute_result"
    }
   ],
   "source": [
    "X_train.columns"
   ]
  },
  {
   "cell_type": "markdown",
   "metadata": {},
   "source": [
    "### Visualize feature importance"
   ]
  },
  {
   "cell_type": "code",
   "execution_count": 185,
   "metadata": {
    "ExecuteTime": {
     "end_time": "2020-08-19T20:44:12.365644Z",
     "start_time": "2020-08-19T20:44:12.359435Z"
    }
   },
   "outputs": [
    {
     "data": {
      "text/html": [
       "<div>\n",
       "<style scoped>\n",
       "    .dataframe tbody tr th:only-of-type {\n",
       "        vertical-align: middle;\n",
       "    }\n",
       "\n",
       "    .dataframe tbody tr th {\n",
       "        vertical-align: top;\n",
       "    }\n",
       "\n",
       "    .dataframe thead th {\n",
       "        text-align: right;\n",
       "    }\n",
       "</style>\n",
       "<table border=\"1\" class=\"dataframe\">\n",
       "  <thead>\n",
       "    <tr style=\"text-align: right;\">\n",
       "      <th></th>\n",
       "      <th>0</th>\n",
       "    </tr>\n",
       "  </thead>\n",
       "  <tbody>\n",
       "    <tr>\n",
       "      <th>bedrooms</th>\n",
       "      <td>-33180.408378</td>\n",
       "    </tr>\n",
       "    <tr>\n",
       "      <th>bathrooms</th>\n",
       "      <td>30049.669119</td>\n",
       "    </tr>\n",
       "    <tr>\n",
       "      <th>sqft_living</th>\n",
       "      <td>153761.499606</td>\n",
       "    </tr>\n",
       "    <tr>\n",
       "      <th>sqft_lot</th>\n",
       "      <td>-10512.650111</td>\n",
       "    </tr>\n",
       "    <tr>\n",
       "      <th>floors</th>\n",
       "      <td>11875.977630</td>\n",
       "    </tr>\n",
       "    <tr>\n",
       "      <th>waterfront</th>\n",
       "      <td>57291.546301</td>\n",
       "    </tr>\n",
       "    <tr>\n",
       "      <th>view</th>\n",
       "      <td>38250.807845</td>\n",
       "    </tr>\n",
       "    <tr>\n",
       "      <th>condition</th>\n",
       "      <td>11816.431977</td>\n",
       "    </tr>\n",
       "    <tr>\n",
       "      <th>grade</th>\n",
       "      <td>149638.799616</td>\n",
       "    </tr>\n",
       "    <tr>\n",
       "      <th>sqft_basement</th>\n",
       "      <td>6822.892477</td>\n",
       "    </tr>\n",
       "    <tr>\n",
       "      <th>yr_built</th>\n",
       "      <td>-92634.846289</td>\n",
       "    </tr>\n",
       "  </tbody>\n",
       "</table>\n",
       "</div>"
      ],
      "text/plain": [
       "                           0\n",
       "bedrooms       -33180.408378\n",
       "bathrooms       30049.669119\n",
       "sqft_living    153761.499606\n",
       "sqft_lot       -10512.650111\n",
       "floors          11875.977630\n",
       "waterfront      57291.546301\n",
       "view            38250.807845\n",
       "condition       11816.431977\n",
       "grade          149638.799616\n",
       "sqft_basement    6822.892477\n",
       "yr_built       -92634.846289"
      ]
     },
     "execution_count": 185,
     "metadata": {},
     "output_type": "execute_result"
    }
   ],
   "source": [
    "df_"
   ]
  },
  {
   "cell_type": "code",
   "execution_count": 189,
   "metadata": {
    "ExecuteTime": {
     "end_time": "2020-08-19T20:49:36.540589Z",
     "start_time": "2020-08-19T20:49:36.016467Z"
    }
   },
   "outputs": [
    {
     "data": {
      "image/png": "[encoded data removed]",
      "text/plain": [
       "<Figure size 720x720 with 1 Axes>"
      ]
     },
     "metadata": {
      "needs_background": "light"
     },
     "output_type": "display_data"
    }
   ],
   "source": [
    "df_ = pd.DataFrame(reg.coef_, X_train.columns)\n",
    "df_.rename(columns={0: \"feature coefficents\"}, inplace=True)\n",
    "ax = df_.plot.bar(figsize=(10,10),rot='feature importance')\n",
    "plt.title('Feature Importance')\n",
    "plt.grid(which='major', linestyle='-', linewidth='0.5', color='green')\n",
    "plt.grid(which='minor', linestyle=':', linewidth='0.5', color='black')\n",
    "plt.xticks(rotation=45)\n",
    "fig.savefig('figures/feature-importance') "
   ]
  },
  {
   "cell_type": "markdown",
   "metadata": {},
   "source": [
    "Excluding zipecode, the most important features are\n",
    "\n",
    "sqft_living, grade, and yr_built"
   ]
  },
  {
   "cell_type": "code",
   "execution_count": null,
   "metadata": {},
   "outputs": [],
   "source": []
  },
  {
   "cell_type": "markdown",
   "metadata": {},
   "source": [
    "### Check fit on training data"
   ]
  },
  {
   "cell_type": "code",
   "execution_count": 145,
   "metadata": {
    "ExecuteTime": {
     "end_time": "2020-08-19T20:22:49.569749Z",
     "start_time": "2020-08-19T20:22:49.566757Z"
    }
   },
   "outputs": [],
   "source": [
    "y_train_predict= reg.predict(X_trained_scaled)"
   ]
  },
  {
   "cell_type": "code",
   "execution_count": 146,
   "metadata": {
    "ExecuteTime": {
     "end_time": "2020-08-19T20:22:53.676793Z",
     "start_time": "2020-08-19T20:22:53.671366Z"
    }
   },
   "outputs": [
    {
     "data": {
      "text/plain": [
       "49370823894.8227"
      ]
     },
     "execution_count": 146,
     "metadata": {},
     "output_type": "execute_result"
    }
   ],
   "source": [
    "mean_squared_error(y_train_predict, y_train)"
   ]
  },
  {
   "cell_type": "code",
   "execution_count": 147,
   "metadata": {
    "ExecuteTime": {
     "end_time": "2020-08-19T20:22:56.626911Z",
     "start_time": "2020-08-19T20:22:56.619804Z"
    }
   },
   "outputs": [
    {
     "name": "stdout",
     "output_type": "stream",
     "text": [
      "Mean Absolute Error: 143748.9532233487\n",
      "Mean Squared Error: 49370823894.8227\n",
      "Root Mean Squared Error: 222195.46326336797\n"
     ]
    }
   ],
   "source": [
    "print('Mean Absolute Error:', metrics.mean_absolute_error(y_train, y_train_predict))  \n",
    "print('Mean Squared Error:', metrics.mean_squared_error(y_train, y_train_predict))  \n",
    "print('Root Mean Squared Error:', np.sqrt(metrics.mean_squared_error(y_train, y_train_predict)))\n"
   ]
  },
  {
   "cell_type": "markdown",
   "metadata": {},
   "source": [
    "### Check fit on testing data"
   ]
  },
  {
   "cell_type": "code",
   "execution_count": 148,
   "metadata": {
    "ExecuteTime": {
     "end_time": "2020-08-19T20:22:59.738091Z",
     "start_time": "2020-08-19T20:22:59.735071Z"
    }
   },
   "outputs": [],
   "source": [
    "y_test_predict= reg.predict(X_test_scaled)"
   ]
  },
  {
   "cell_type": "code",
   "execution_count": 149,
   "metadata": {
    "ExecuteTime": {
     "end_time": "2020-08-19T20:23:02.616758Z",
     "start_time": "2020-08-19T20:23:02.612680Z"
    }
   },
   "outputs": [
    {
     "data": {
      "text/plain": [
       "47145778784.36161"
      ]
     },
     "execution_count": 149,
     "metadata": {},
     "output_type": "execute_result"
    }
   ],
   "source": [
    "mean_squared_error(y_test_predict, y_test)"
   ]
  },
  {
   "cell_type": "code",
   "execution_count": 150,
   "metadata": {
    "ExecuteTime": {
     "end_time": "2020-08-19T20:23:08.494232Z",
     "start_time": "2020-08-19T20:23:08.489262Z"
    }
   },
   "outputs": [
    {
     "name": "stdout",
     "output_type": "stream",
     "text": [
      "Mean Absolute Error: 142026.842655217\n",
      "Mean Squared Error: 47145778784.36161\n",
      "Root Mean Squared Error: 217130.7872789154\n"
     ]
    }
   ],
   "source": [
    "print('Mean Absolute Error:', metrics.mean_absolute_error(y_test, y_test_predict))  \n",
    "print('Mean Squared Error:', metrics.mean_squared_error(y_test, y_test_predict))  \n",
    "print('Root Mean Squared Error:', np.sqrt(metrics.mean_squared_error(y_test, y_test_predict)))\n"
   ]
  },
  {
   "cell_type": "code",
   "execution_count": 153,
   "metadata": {
    "ExecuteTime": {
     "end_time": "2020-08-19T20:28:34.530550Z",
     "start_time": "2020-08-19T20:28:34.527229Z"
    }
   },
   "outputs": [],
   "source": [
    "df1 = pd.DataFrame({'Actual': y_test, 'Predicted': y_test_predict})"
   ]
  },
  {
   "cell_type": "code",
   "execution_count": 154,
   "metadata": {
    "ExecuteTime": {
     "end_time": "2020-08-19T20:28:35.210346Z",
     "start_time": "2020-08-19T20:28:35.207970Z"
    }
   },
   "outputs": [],
   "source": [
    "df2 = df1.head(25)"
   ]
  },
  {
   "cell_type": "code",
   "execution_count": 155,
   "metadata": {
    "ExecuteTime": {
     "end_time": "2020-08-19T20:28:36.218030Z",
     "start_time": "2020-08-19T20:28:35.816897Z"
    }
   },
   "outputs": [
    {
     "data": {
      "image/png": "[encoded data removed]",
      "text/plain": [
       "<Figure size 720x576 with 1 Axes>"
      ]
     },
     "metadata": {
      "needs_background": "light"
     },
     "output_type": "display_data"
    }
   ],
   "source": [
    "df2.plot(kind='bar',figsize=(10,8))\n",
    "plt.grid(which='major', linestyle='-', linewidth='0.5', color='green')\n",
    "plt.grid(which='minor', linestyle=':', linewidth='0.5', color='black')\n",
    "plt.show()"
   ]
  },
  {
   "cell_type": "markdown",
   "metadata": {},
   "source": [
    "### R^2 Score for training and testing set"
   ]
  },
  {
   "cell_type": "code",
   "execution_count": 151,
   "metadata": {
    "ExecuteTime": {
     "end_time": "2020-08-19T20:23:15.806317Z",
     "start_time": "2020-08-19T20:23:15.800906Z"
    }
   },
   "outputs": [
    {
     "data": {
      "text/plain": [
       "0.6452024466652508"
      ]
     },
     "execution_count": 151,
     "metadata": {},
     "output_type": "execute_result"
    }
   ],
   "source": [
    "#training score\n",
    "reg.score(X_trained_scaled, y_train)"
   ]
  },
  {
   "cell_type": "code",
   "execution_count": 152,
   "metadata": {
    "ExecuteTime": {
     "end_time": "2020-08-19T20:23:18.725962Z",
     "start_time": "2020-08-19T20:23:18.720323Z"
    }
   },
   "outputs": [
    {
     "data": {
      "text/plain": [
       "0.6203657332928147"
      ]
     },
     "execution_count": 152,
     "metadata": {},
     "output_type": "execute_result"
    }
   ],
   "source": [
    "#testing score\n",
    "reg.score(X_test_scaled, y_test)"
   ]
  },
  {
   "cell_type": "markdown",
   "metadata": {},
   "source": [
    "The scoring similarity between testing and training makes me think the model is NOT overfit and performs well on testing data.\n",
    "\n",
    "However, our dataframe may be a non randomly sampled subset of houses"
   ]
  },
  {
   "cell_type": "code",
   "execution_count": null,
   "metadata": {},
   "outputs": [],
   "source": []
  },
  {
   "cell_type": "markdown",
   "metadata": {},
   "source": [
    "### Now lets look at the biggest errors and why they may happen"
   ]
  },
  {
   "cell_type": "code",
   "execution_count": null,
   "metadata": {},
   "outputs": [],
   "source": []
  },
  {
   "cell_type": "code",
   "execution_count": null,
   "metadata": {},
   "outputs": [],
   "source": []
  }
 ],
 "metadata": {
  "kernelspec": {
   "display_name": "Python 3",
   "language": "python",
   "name": "python3"
  },
  "language_info": {
   "codemirror_mode": {
    "name": "ipython",
    "version": 3
   },
   "file_extension": ".py",
   "mimetype": "text/x-python",
   "name": "python",
   "nbconvert_exporter": "python",
   "pygments_lexer": "ipython3",
   "version": "3.7.7"
  },
  "varInspector": {
   "cols": {
    "lenName": 16,
    "lenType": 16,
    "lenVar": 40
   },
   "kernels_config": {
    "python": {
     "delete_cmd_postfix": "",
     "delete_cmd_prefix": "del ",
     "library": "var_list.py",
     "varRefreshCmd": "print(var_dic_list())"
    },
    "r": {
     "delete_cmd_postfix": ") ",
     "delete_cmd_prefix": "rm(",
     "library": "var_list.r",
     "varRefreshCmd": "cat(var_dic_list()) "
    }
   },
   "types_to_exclude": [
    "module",
    "function",
    "builtin_function_or_method",
    "instance",
    "_Feature"
   ],
   "window_display": false
  }
 },
 "nbformat": 4,
 "nbformat_minor": 2
}
